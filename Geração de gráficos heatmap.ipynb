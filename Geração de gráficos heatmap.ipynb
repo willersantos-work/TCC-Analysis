{
 "cells": [
  {
   "cell_type": "markdown",
   "id": "5a28ed86",
   "metadata": {},
   "source": [
    "### Instalação de base de dados Pymrio"
   ]
  },
  {
   "cell_type": "code",
   "execution_count": null,
   "id": "998a58bd",
   "metadata": {},
   "outputs": [],
   "source": [
    "pip install pymrio"
   ]
  },
  {
   "cell_type": "code",
   "execution_count": null,
   "id": "31ce7d79",
   "metadata": {},
   "outputs": [],
   "source": [
    "import pymrio\n",
    "import pandas as pd\n",
    "import numpy as np\n",
    "import matplotlib.pyplot as plt # Biblioteca para criar gráficos \"comuns\" ao estilo Matlab\n",
    "import seaborn as sns # Biblioteca utilizada para criar gráficos mais \"bonitos\""
   ]
  },
  {
   "cell_type": "markdown",
   "id": "819b8c82",
   "metadata": {},
   "source": [
    "### Para a definição do ano da base de dados é necessário colocar o ano desejado na variável \"selected_years\""
   ]
  },
  {
   "cell_type": "code",
   "execution_count": null,
   "id": "dfa3f37e",
   "metadata": {},
   "outputs": [],
   "source": [
    "selected_years = [2015]"
   ]
  },
  {
   "cell_type": "code",
   "execution_count": null,
   "id": "69057a2e",
   "metadata": {},
   "outputs": [],
   "source": [
    "exio3 = pymrio.parse_exiobase3('/tmp/mrios/autodownload/EXIO3i/IOT_2015_ixi.zip')"
   ]
  },
  {
   "cell_type": "markdown",
   "id": "cc9e9831",
   "metadata": {},
   "source": [
    "### Utilizando a base de dados do Pymrio do ano especificado"
   ]
  },
  {
   "cell_type": "code",
   "execution_count": null,
   "id": "23793743",
   "metadata": {},
   "outputs": [],
   "source": [
    "exio3.calc_all()"
   ]
  },
  {
   "cell_type": "markdown",
   "id": "25b1b456",
   "metadata": {},
   "source": [
    "### Apresentação de possibilidades de variáveis no dataset, como as regiões, extensões tratadas, macro categorias na cadeia de suprimento, setores"
   ]
  },
  {
   "cell_type": "code",
   "execution_count": null,
   "id": "0bb8c06f",
   "metadata": {},
   "outputs": [],
   "source": [
    "categories = exio3.get_Y_categories()\n",
    "categories"
   ]
  },
  {
   "cell_type": "code",
   "execution_count": null,
   "id": "9986c7b2",
   "metadata": {},
   "outputs": [],
   "source": [
    "macro_categories = exio3.get_Y_categories()\n",
    "macro_categories"
   ]
  },
  {
   "cell_type": "code",
   "execution_count": null,
   "id": "c5feb54e",
   "metadata": {},
   "outputs": [],
   "source": [
    "selected_region_paper = [\"CN\", \"US\", \"DE\", \"IN\"]\n",
    "selected_region_pulp = [\"CN\", \"US\", \"CA\", \"SE\"]\n",
    "selected_region_all = [\"CN\", \"US\", \"JP\", \"SE\"]\n",
    "selected_region_main = [\"BR\"]\n",
    "\n",
    "regions_array = selected_region_paper + selected_region_pulp + selected_region_all + selected_region_main\n",
    "all_main_regions = list(set(regions_array))"
   ]
  },
  {
   "cell_type": "code",
   "execution_count": null,
   "id": "4b0c889b",
   "metadata": {},
   "outputs": [],
   "source": [
    "sectors = exio3.get_sectors()\n",
    "sectors"
   ]
  },
  {
   "cell_type": "markdown",
   "id": "c6965dea",
   "metadata": {},
   "source": [
    "### Apresentação dos setores selecionados"
   ]
  },
  {
   "cell_type": "code",
   "execution_count": null,
   "id": "7a58cc88",
   "metadata": {},
   "outputs": [],
   "source": [
    "sectors = [\"Manure treatment (biogas), storage and land application\",\n",
    "\"Forestry, logging and related service activities (02)\",\n",
    "\"Manufacture of textiles (17)\",\n",
    "\"Manufacture of wearing apparel; dressing and dyeing of fur (18)\",\n",
    "\"Re-processing of secondary wood material into new wood material\",\n",
    "\"Pulp\",\n",
    "\"Re-processing of secondary paper into new pulp\",\n",
    "\"Paper\",\n",
    "\"Publishing, printing and reproduction of recorded media (22)\",\n",
    "\"Production of electricity by biomass and waste\"]"
   ]
  },
  {
   "cell_type": "markdown",
   "id": "a0e4499e",
   "metadata": {},
   "source": [
    "### Seleção de indicadores"
   ]
  },
  {
   "cell_type": "code",
   "execution_count": null,
   "id": "6da6f350",
   "metadata": {},
   "outputs": [],
   "source": [
    "wood_extractor_indicator = [\n",
    "    \"Domestic Extraction Used - Forestry - Coniferous wood - Industrial roundwood - satellite\",\n",
    "    \"Domestic Extraction Used - Forestry - Non-coniferous wood - Industrial roundwood - satellite\",\n",
    "    \"Domestic Extraction Used - Forestry - Raw materials other than wood - satellite\",\n",
    "    \"Unused Domestic Extraction - Forestry - Raw materials other than wood - satellite\",\n",
    "    \"Unused Domestic Extraction - Forestry - Coniferous wood - Industrial roundwood - satellite\",\n",
    "    \"Unused Domestic Extraction - Forestry - Non-coniferous wood - Industrial roundwood - satellite\"\n",
    "]\n",
    "# Indicador de extração de madeira utilizada e não utilizada\n",
    "# Base satellites"
   ]
  },
  {
   "cell_type": "code",
   "execution_count": null,
   "id": "dbb276e0",
   "metadata": {},
   "outputs": [],
   "source": [
    "water_consum_indicator = [\n",
    "    \"Water Consumption Blue - Manufacturing - Secondary paper for treatment, Re-processing of secondary paper into new pulp - satellite\",\n",
    "    \"Water Consumption Blue - Manufacturing - Paper and paper products - satellite\",\n",
    "    \"Water Consumption Blue - Manufacturing - Pulp - satellite\",\n",
    "    \"Water Consumption Blue - Total - impacts\"\n",
    "]\n",
    "# Indicador de consumo de água\n",
    "# Base satellites e o último impacts"
   ]
  },
  {
   "cell_type": "code",
   "execution_count": null,
   "id": "dd26e0f8",
   "metadata": {},
   "outputs": [],
   "source": [
    "value_added_indicator = [\n",
    "    \"Value Added - impacts\"\n",
    "]\n",
    "# Indicador de valor adicionado\n",
    "# Base indicators"
   ]
  },
  {
   "cell_type": "code",
   "execution_count": null,
   "id": "2428a850",
   "metadata": {},
   "outputs": [],
   "source": [
    "employee_satisfaction_indicator = [\n",
    "    \"Compensation of employees; wages, salaries, & employers' social contributions: Low-skilled - satellite\",\n",
    "    \"Compensation of employees; wages, salaries, & employers' social contributions: Medium-skilled - satellite\",\n",
    "    \"Compensation of employees; wages, salaries, & employers' social contributions: High-skilled - satellite\",\n",
    "    \"Employment: Vulnerable employment - satellite\",\n",
    "    \"Employment hours: Vulnerable employment - satellite\"\n",
    "]\n",
    "# Indicador de satisfação dos funcionários\n",
    "# Base satellite"
   ]
  },
  {
   "cell_type": "code",
   "execution_count": null,
   "id": "f2d906eb",
   "metadata": {},
   "outputs": [],
   "source": [
    "carbon_dioxid_emission_indicator = [\n",
    "    \"CO2 - combustion - air - satellite\",\n",
    "    \"CO - combustion - air - satellite\",\n",
    "    \"CO - non combustion - Semi-chemical wood pulp, pulp of fibers other than wood - air - satellite\",\n",
    "    \"CO - non combustion - Chemical wood pulp, dissolving grades - air - satellite\",\n",
    "    \"CO - non combustion - Chemical wood pulp, soda and sulphate, other than dissolving grades - air - satellite\",\n",
    "    \"CO - non combustion - Chemical wood pulp, sulphite, other than dissolving grades - air - satellite\"\n",
    "]\n",
    "# Indicador de emissão de dióxido de carbono (CO2)\n",
    "# Base satellite"
   ]
  },
  {
   "cell_type": "code",
   "execution_count": null,
   "id": "384e4b1b",
   "metadata": {},
   "outputs": [],
   "source": [
    "fossil_energy_use_indicator = [\n",
    "    \"Carbon dioxide (CO2) Fuel combustion - impacts\",\n",
    "    \"Domestic Extraction Used - Forestry - Coniferous wood - Wood fuel - satellite\",\n",
    "    \"Domestic Extraction Used - Forestry - Non-coniferous wood - Wood fuel - satellite\",\n",
    "    \"Unused Domestic Extraction - Forestry - Coniferous wood - Wood fuel - satellite\",\n",
    "    \"Unused Domestic Extraction - Forestry - Non-coniferous wood - Wood fuel - satellite\"\n",
    "]\n",
    "# Indicador de uso de energia fóssil\n",
    "# Base impacts (primeiro) e satellite (4 últimos)"
   ]
  },
  {
   "cell_type": "code",
   "execution_count": null,
   "id": "0aed91d7",
   "metadata": {},
   "outputs": [],
   "source": [
    "non_fossil_energy_use_indicator = [\n",
    "    \"Production of electricity by hydro\",\n",
    "    \"Production of electricity by wind\",\n",
    "    \"Production of electricity by biomass and waste\",\n",
    "    \"Production of electricity by solar photovoltaic\",\n",
    "    \"Production of electricity by solar thermal\",\n",
    "    \"Production of electricity by tide, wave, ocean\",\n",
    "    \"Production of electricity by Geothermal\",\n",
    "]\n",
    "# Indicador de emissão de outros poluentes\n",
    "# Base sectors"
   ]
  },
  {
   "cell_type": "code",
   "execution_count": null,
   "id": "3b3f22aa",
   "metadata": {},
   "outputs": [],
   "source": [
    "pollutants_emission_indicator = [\n",
    "    \"CH4 - combustion - air - satellite\",\n",
    "    \"N2O - combustion - air - satellite\",\n",
    "    \"SOx - combustion - air - satellite\",\n",
    "    \"NOx - combustion - air - satellite\",\n",
    "    \"NH3 - combustion - air - satellite\"\n",
    "]\n",
    "# Indicador de emissão de outros poluentes\n",
    "# Base satellite"
   ]
  },
  {
   "cell_type": "code",
   "execution_count": null,
   "id": "59d37e82",
   "metadata": {},
   "outputs": [],
   "source": [
    "wellbeing_and_health_in_community_indicator = [\n",
    "    \"Damages to human health caused by climate change (E.E) | ECOINDICATOR 99 (E.E) | Damages to human health caused by climate change (E.E) - impacts\",\n",
    "    \"Damage to Ecosystem Quality caused by ecotoxic emissions (E.E)) | ECOINDICATOR 99 (E.E) | Damage to Ecosystem Quality caused by ecotoxic emissions (E.E)) - impacts\",\n",
    "    \"Damage to Ecosystem Quality caused by the combined effect of acidification and eutrophication (E.E) | ECOINDICATOR 99 (E.E) | Damage to Ecosystem Quality caused by the combined effect of acidification and eutrophication (E.E) - impacts\",\n",
    "    \"Unused Domestic Extraction - Crop and Crop Residue - impacts\",\n",
    "    \"Unused Domestic Extraction - Grazing and Fodder - impacts\",\n",
    "    \"Unused Domestic Extraction - Forestry and Timber - impacts\",\n",
    "#     \"Unused Domestic Extraction - Fisheries - impacts\",\n",
    "    \"Unused Domestic Extraction - Non-metalic Minerals - impacts\",\n",
    "    \"Land use Crop, Forest, Pasture - impacts\"\n",
    "]\n",
    "# Indicador de bem-estar e saúde nas comunidades\n",
    "# Base satellite"
   ]
  },
  {
   "cell_type": "code",
   "execution_count": null,
   "id": "89ec7f6d",
   "metadata": {},
   "outputs": [],
   "source": [
    "solid_waste_emission_indicator = [\n",
    "    \"Unused Domestic Extraction - Forestry - Coniferous wood - Industrial roundwood - satellite\",\n",
    "    \"Unused Domestic Extraction - Forestry - Coniferous wood - Wood fuel - satellite\",\n",
    "    \"Unused Domestic Extraction - Forestry - Non-coniferous wood - Industrial roundwood - satellite\",\n",
    "    \"Unused Domestic Extraction - Forestry - Non-coniferous wood - Wood fuel - satellite\",\n",
    "    \"Unused Domestic Extraction - impacts\",\n",
    "    \"Unused Domestic Extraction - Forestry and Timber - impacts\"\n",
    "]\n",
    "# Indicador de uso de energia fóssil\n",
    "# Base impacts (dois últimos) e satellite (4 primeiros)"
   ]
  },
  {
   "cell_type": "code",
   "execution_count": null,
   "id": "b6d7d082",
   "metadata": {},
   "outputs": [],
   "source": [
    "research_and_development_investment_indicator = [\n",
    "    \"Real estate activities (70)\",\n",
    "    \"Research and development (73)\",\n",
    "    \"Air transport (62)\",\n",
    "    \"Inland water transport\",\n",
    "    \"Sea and coastal water transport\",\n",
    "    \"Other land transport\",\n",
    "    \"Transport via railways\",\n",
    "    \"Computer and related activities (72)\",\n",
    "    \"Extra-territorial organizations and bodies\"\n",
    "]\n",
    "# Indicador de investimento em pesquisa e desenvolvimento\n",
    "# Base economic sectors"
   ]
  },
  {
   "cell_type": "code",
   "execution_count": null,
   "id": "ab7269b4",
   "metadata": {},
   "outputs": [],
   "source": [
    "social_project_investment_indicator = [\n",
    "    \"Publishing, printing and reproduction of recorded media (22)\",\n",
    "    \"Education (80)\",\n",
    "    \"Health and social work (85)\",\n",
    "    \"Recreational, cultural and sporting activities (92)\",\n",
    "    \"Public administration and defence; compulsory social security (75)\"\n",
    "]\n",
    "# Indicador de investimento em projetos sociais\n",
    "# Base economic sectors"
   ]
  },
  {
   "cell_type": "code",
   "execution_count": null,
   "id": "de79fffb",
   "metadata": {},
   "outputs": [],
   "source": [
    "recycling_indicator = [\n",
    "    \"Landfill of waste: Wood\",\n",
    "    \"Landfill of waste: Paper\",\n",
    "    \"Biogasification of sewage slugde, incl. land application\",\n",
    "    \"Biogasification of paper, incl. land application\",\n",
    "    \"Composting of paper and wood, incl. land application\",\n",
    "    \"Re-processing of secondary wood material into new wood material\",\n",
    "    \"Re-processing of secondary paper into new pulp\"\n",
    "]\n",
    "# Indicador de índice de reciclagem\n",
    "# Base economic sectors"
   ]
  },
  {
   "cell_type": "code",
   "execution_count": null,
   "id": "db80c5f1",
   "metadata": {},
   "outputs": [],
   "source": [
    "profit_indicator = [\n",
    "    \"Operating surplus: Consumption of fixed capital - satellite\",\n",
    "    \"Operating surplus: Rents on land - satellite\",\n",
    "    \"Operating surplus: Royalties on resources - satellite\",\n",
    "    \"Operating surplus: Remaining net operating surplus - satellite\"\n",
    "]\n",
    "# Indicador de lucro bruto\n",
    "# Base satellite"
   ]
  },
  {
   "cell_type": "code",
   "execution_count": null,
   "id": "751f787c",
   "metadata": {},
   "outputs": [],
   "source": [
    "work_procutivity_indicator = [\n",
    "    \"Employment hours: Low-skilled male - satellite\",\n",
    "    \"Employment hours: Low-skilled female - satellite\",\n",
    "    \"Employment hours: Medium-skilled male - satellite\",\n",
    "    \"Employment hours: Medium-skilled female - satellite\",\n",
    "    \"Employment hours: High-skilled male - satellite\",\n",
    "    \"Employment hours: High-skilled female - satellite\"\n",
    "]\n",
    "# Indicador de Produtividade no trabalho\n",
    "# Base satellite"
   ]
  },
  {
   "cell_type": "code",
   "execution_count": null,
   "id": "1b652e44",
   "metadata": {},
   "outputs": [],
   "source": [
    "job_creation_indicator = [\n",
    "    \"Employment: Low-skilled male - satellite\",\n",
    "    \"Employment: Low-skilled female - satellite\",\n",
    "    \"Employment: Medium-skilled male - satellite\",\n",
    "    \"Employment: Medium-skilled female - satellite\",\n",
    "    \"Employment: High-skilled male - satellite\",\n",
    "    \"Employment: High-skilled female - satellite\"\n",
    "]\n",
    "# Indicador de Geração de emprego\n",
    "# Base satellite"
   ]
  },
  {
   "cell_type": "markdown",
   "id": "42c53890",
   "metadata": {},
   "source": [
    "### Organização de base de dados por região"
   ]
  },
  {
   "cell_type": "code",
   "execution_count": null,
   "id": "a0b18010",
   "metadata": {},
   "outputs": [],
   "source": [
    "# Brasil na pesquisa\n",
    "economic_L = exio3.L.BR[sectors].loc[all_main_regions]\n",
    "economic_Z = exio3.Z.BR[sectors].loc[all_main_regions]\n",
    "satellite_D = exio3.satellite.D_cba.BR[sectors]\n",
    "satellite_F = exio3.satellite.F.BR[sectors]\n",
    "impacts_D = exio3.impacts.D_cba.BR[sectors]\n",
    "impacts_F = exio3.impacts.F.BR[sectors]\n",
    "\n",
    "enviroment_D = pd.concat([satellite_D.rename(index=lambda x: f\"{x} - satellite\"), impacts_D.rename(index=lambda x: f\"{x} - impacts\")], axis=0)\n",
    "enviroment_F = pd.concat([satellite_F.rename(index=lambda x: f\"{x} - satellite\"), impacts_F.rename(index=lambda x: f\"{x} - impacts\")], axis=0)"
   ]
  },
  {
   "cell_type": "code",
   "execution_count": null,
   "id": "e0958b8c",
   "metadata": {},
   "outputs": [],
   "source": [
    "# [\"CN\", \"US\", \"CA\", \"SE\"]\n",
    "# líderes pulp na pesquisa\n",
    "economic_L_pulp = []\n",
    "economic_Z_pulp = []\n",
    "enviroment_D_pulp = []\n",
    "enviroment_F_pulp = []\n",
    "\n",
    "for region_name in selected_region_pulp:\n",
    "    economic_L_pulp.append((region_name, exio3.L[region_name][sectors].loc[all_main_regions]))\n",
    "    economic_Z_pulp.append((region_name, exio3.Z[region_name][sectors].loc[all_main_regions]))\n",
    "\n",
    "    satellite_D_pulp = exio3.satellite.D_cba[region_name][sectors]\n",
    "    satellite_F_pulp = exio3.satellite.F[region_name][sectors]\n",
    "    impacts_D_pulp = exio3.impacts.D_cba[region_name][sectors]\n",
    "    impacts_F_pulp = exio3.impacts.F[region_name][sectors]\n",
    "\n",
    "    enviroment_D = pd.concat([satellite_D_pulp.rename(index=lambda x: f\"{x} - satellite\"), impacts_D_pulp.rename(index=lambda x: f\"{x} - impacts\")], axis=0)\n",
    "    enviroment_F = pd.concat([satellite_F_pulp.rename(index=lambda x: f\"{x} - satellite\"), impacts_F_pulp.rename(index=lambda x: f\"{x} - impacts\")], axis=0)\n",
    "\n",
    "    enviroment_D_pulp.append((region_name, exio3.satellite.D_cba[region_name][sectors]))\n",
    "    enviroment_F_pulp.append((region_name, exio3.satellite.F[region_name][sectors]))\n",
    "\n",
    "# [0] access region_name [1] access database\n",
    "# economic_L_pulp[0][1]"
   ]
  },
  {
   "cell_type": "code",
   "execution_count": null,
   "id": "fd1defb8",
   "metadata": {},
   "outputs": [],
   "source": [
    "# [\"CN\", \"US\", \"DE\", \"IN\"]\n",
    "# líderes paper na pesquisa\n",
    "economic_L_paper = []\n",
    "economic_Z_paper = []\n",
    "enviroment_D_paper = []\n",
    "enviroment_F_paper = []\n",
    "\n",
    "for region_name in selected_region_paper:\n",
    "    economic_L_paper.append((region_name, exio3.L[region_name][sectors].loc[all_main_regions]))\n",
    "    economic_Z_paper.append((region_name, exio3.Z[region_name][sectors].loc[all_main_regions]))\n",
    "\n",
    "    satellite_D_paper = exio3.satellite.D_cba[region_name][sectors]\n",
    "    satellite_F_paper = exio3.satellite.F[region_name][sectors]\n",
    "    impacts_D_paper = exio3.impacts.D_cba[region_name][sectors]\n",
    "    impacts_F_paper = exio3.impacts.F[region_name][sectors]\n",
    "\n",
    "    enviroment_D = pd.concat([satellite_D_paper.rename(index=lambda x: f\"{x} - satellite\"), impacts_D_paper.rename(index=lambda x: f\"{x} - impacts\")], axis=0)\n",
    "    enviroment_F = pd.concat([satellite_F_paper.rename(index=lambda x: f\"{x} - satellite\"), impacts_F_paper.rename(index=lambda x: f\"{x} - impacts\")], axis=0)\n",
    "\n",
    "    enviroment_D_paper.append((region_name, exio3.satellite.D_cba[region_name][sectors]))\n",
    "    enviroment_F_paper.append((region_name, exio3.satellite.F[region_name][sectors]))\n",
    "\n",
    "# [0] access region_name [1] access database\n",
    "# economic_L_paper[0][1]"
   ]
  },
  {
   "cell_type": "code",
   "execution_count": null,
   "id": "301ace69",
   "metadata": {},
   "outputs": [],
   "source": [
    "# [\"CN\", \"US\", \"JP\", \"SE\"]\n",
    "# líderes paper na pesquisa\n",
    "economic_L_all = []\n",
    "economic_Z_all = []\n",
    "enviroment_D_all = []\n",
    "enviroment_F_all = []\n",
    "\n",
    "for region_name in selected_region_all:\n",
    "    economic_L_all.append((region_name, exio3.L[region_name][sectors].loc[all_main_regions]))\n",
    "    economic_Z_all.append((region_name, exio3.Z[region_name][sectors].loc[all_main_regions]))\n",
    "\n",
    "    satellite_D_all = exio3.satellite.D_cba[region_name][sectors]\n",
    "    satellite_F_all = exio3.satellite.F[region_name][sectors]\n",
    "    impacts_D_all = exio3.impacts.D_cba[region_name][sectors]\n",
    "    impacts_F_all = exio3.impacts.F[region_name][sectors]\n",
    "\n",
    "    enviroment_D = pd.concat([satellite_D_all.rename(index=lambda x: f\"{x} - satellite\"), impacts_D_all.rename(index=lambda x: f\"{x} - impacts\")], axis=0)\n",
    "    enviroment_F = pd.concat([satellite_F_all.rename(index=lambda x: f\"{x} - satellite\"), impacts_F_all.rename(index=lambda x: f\"{x} - impacts\")], axis=0)\n",
    "\n",
    "    enviroment_D_all.append((region_name, exio3.satellite.D_cba[region_name][sectors]))\n",
    "    enviroment_F_all.append((region_name, exio3.satellite.F[region_name][sectors]))\n",
    "\n",
    "# [0] access region_name [1] access database\n",
    "# economic_L_all[0][1]"
   ]
  },
  {
   "cell_type": "markdown",
   "id": "acbec911",
   "metadata": {},
   "source": [
    "### Definição de base de dados para acessar segmentado por indicador"
   ]
  },
  {
   "cell_type": "code",
   "execution_count": null,
   "id": "a48b9585",
   "metadata": {},
   "outputs": [],
   "source": [
    "enviroment_wood_extractor_indicator = enviroment_D.loc[wood_extractor_indicator]\n",
    "enviroment_water_consum_indicator = enviroment_D.loc[water_consum_indicator]\n",
    "enviroment_value_added_indicator = enviroment_D.loc[value_added_indicator]\n",
    "enviroment_employee_satisfaction_indicator = enviroment_D.loc[employee_satisfaction_indicator]\n",
    "enviroment_carbon_dioxid_emission_indicator = enviroment_D.loc[carbon_dioxid_emission_indicator]\n",
    "enviroment_fossil_energy_use_indicator = enviroment_D.loc[fossil_energy_use_indicator]\n",
    "enviroment_pollutants_emission_indicator = enviroment_D.loc[pollutants_emission_indicator]\n",
    "enviroment_solid_waste_emission_indicator = enviroment_D.loc[solid_waste_emission_indicator]\n",
    "enviroment_profit_indicator = enviroment_D.loc[profit_indicator]\n",
    "enviroment_work_procutivity_indicator = enviroment_D.loc[work_procutivity_indicator]\n",
    "enviroment_job_creation_indicator = enviroment_D.loc[job_creation_indicator]\n",
    "enviroment_wellbeing_and_health_in_community_indicator = enviroment_D.loc[wellbeing_and_health_in_community_indicator]\n",
    "\n",
    "economic_non_fossil_energy_use_indicator = economic_Z.loc[(economic_Z.index.get_level_values(1).isin(non_fossil_energy_use_indicator))]\n",
    "economic_research_and_development_investment_indicator = economic_Z.loc[(economic_Z.index.get_level_values(1).isin(research_and_development_investment_indicator))]\n",
    "economic_social_project_investment_indicator = economic_Z.loc[(economic_Z.index.get_level_values(1).isin(social_project_investment_indicator))]\n",
    "economic_recycling_indicator = economic_Z.loc[(economic_Z.index.get_level_values(1).isin(recycling_indicator))]"
   ]
  },
  {
   "cell_type": "markdown",
   "id": "4daee323",
   "metadata": {},
   "source": [
    "### Geração de heatmap por indicador"
   ]
  },
  {
   "cell_type": "code",
   "execution_count": null,
   "id": "fdfa6eb8",
   "metadata": {},
   "outputs": [],
   "source": [
    "plt.figure(figsize=(10,6))\n",
    "\n",
    "sns.heatmap(enviroment_wood_extractor_indicator, annot=True)"
   ]
  },
  {
   "cell_type": "code",
   "execution_count": null,
   "id": "1214c0c3",
   "metadata": {},
   "outputs": [],
   "source": [
    "plt.figure(figsize=(10,5))\n",
    "\n",
    "sns.heatmap(enviroment_water_consum_indicator, annot=True)"
   ]
  },
  {
   "cell_type": "code",
   "execution_count": null,
   "id": "b73c1462",
   "metadata": {},
   "outputs": [],
   "source": [
    "plt.figure(figsize=(10,1))\n",
    "\n",
    "sns.heatmap(enviroment_value_added_indicator, annot=True)"
   ]
  },
  {
   "cell_type": "code",
   "execution_count": null,
   "id": "440317a7",
   "metadata": {},
   "outputs": [],
   "source": [
    "plt.figure(figsize=(10,5))\n",
    "\n",
    "sns.heatmap(enviroment_employee_satisfaction_indicator, annot=True)"
   ]
  },
  {
   "cell_type": "code",
   "execution_count": null,
   "id": "6b7c9cb3",
   "metadata": {},
   "outputs": [],
   "source": [
    "plt.figure(figsize=(10,6))\n",
    "\n",
    "sns.heatmap(enviroment_carbon_dioxid_emission_indicator, annot=True)"
   ]
  },
  {
   "cell_type": "code",
   "execution_count": null,
   "id": "d86ec6d6",
   "metadata": {},
   "outputs": [],
   "source": [
    "plt.figure(figsize=(10,5))\n",
    "\n",
    "sns.heatmap(enviroment_fossil_energy_use_indicator, annot=True)"
   ]
  },
  {
   "cell_type": "code",
   "execution_count": null,
   "id": "47e2a3dd",
   "metadata": {},
   "outputs": [],
   "source": [
    "plt.figure(figsize=(10,5))\n",
    "\n",
    "sns.heatmap(enviroment_pollutants_emission_indicator, annot=True)"
   ]
  },
  {
   "cell_type": "code",
   "execution_count": null,
   "id": "7b860c1c",
   "metadata": {},
   "outputs": [],
   "source": [
    "plt.figure(figsize=(10,6))\n",
    "\n",
    "sns.heatmap(enviroment_solid_waste_emission_indicator, annot=True)"
   ]
  },
  {
   "cell_type": "code",
   "execution_count": null,
   "id": "ca2d4565",
   "metadata": {},
   "outputs": [],
   "source": [
    "plt.figure(figsize=(10,4))\n",
    "\n",
    "sns.heatmap(enviroment_profit_indicator, annot=True)"
   ]
  },
  {
   "cell_type": "code",
   "execution_count": null,
   "id": "158d0d28",
   "metadata": {},
   "outputs": [],
   "source": [
    "plt.figure(figsize=(10,6))\n",
    "\n",
    "sns.heatmap(enviroment_work_procutivity_indicator, annot=True)"
   ]
  },
  {
   "cell_type": "code",
   "execution_count": null,
   "id": "e8037f65",
   "metadata": {},
   "outputs": [],
   "source": [
    "plt.figure(figsize=(10,6))\n",
    "\n",
    "sns.heatmap(enviroment_job_creation_indicator, annot=True)"
   ]
  },
  {
   "cell_type": "code",
   "execution_count": null,
   "id": "5f018c0a",
   "metadata": {},
   "outputs": [],
   "source": [
    "plt.figure(figsize=(10,10))\n",
    "\n",
    "sns.heatmap(economic_non_fossil_energy_use_indicator, annot=True)"
   ]
  },
  {
   "cell_type": "code",
   "execution_count": null,
   "id": "ab1f56cb",
   "metadata": {},
   "outputs": [],
   "source": [
    "plt.figure(figsize=(10,10))\n",
    "\n",
    "sns.heatmap(enviroment_wellbeing_and_health_in_community_indicator, annot=True)"
   ]
  },
  {
   "cell_type": "code",
   "execution_count": null,
   "id": "9bfd6847",
   "metadata": {},
   "outputs": [],
   "source": [
    "plt.figure(figsize=(10,10))\n",
    "\n",
    "sns.heatmap(economic_research_and_development_investment_indicator, annot=True)"
   ]
  },
  {
   "cell_type": "code",
   "execution_count": null,
   "id": "58de3cc1",
   "metadata": {},
   "outputs": [],
   "source": [
    "plt.figure(figsize=(10,10))\n",
    "\n",
    "sns.heatmap(economic_social_project_investment_indicator, annot=True)"
   ]
  },
  {
   "cell_type": "code",
   "execution_count": null,
   "id": "fbec545f",
   "metadata": {},
   "outputs": [],
   "source": [
    "plt.figure(figsize=(10,10))\n",
    "\n",
    "sns.heatmap(economic_recycling_indicator, annot=True)"
   ]
  },
  {
   "cell_type": "markdown",
   "id": "41129492",
   "metadata": {},
   "source": [
    "## Análise 1 - Impacto ao meio ambiente com a extração da principal `matéria-prima` (madeira)"
   ]
  },
  {
   "cell_type": "markdown",
   "id": "07ae0444",
   "metadata": {},
   "source": [
    "### Geração para base de dados de heatmap"
   ]
  },
  {
   "cell_type": "code",
   "execution_count": null,
   "id": "46fa93dc",
   "metadata": {},
   "outputs": [],
   "source": [
    "heatmap_analysis_1 = pd.concat(\n",
    "    [enviroment_wood_extractor_indicator, enviroment_water_consum_indicator, enviroment_carbon_dioxid_emission_indicator],\n",
    "axis=0)"
   ]
  },
  {
   "cell_type": "markdown",
   "id": "5f0646a3",
   "metadata": {},
   "source": [
    "### Geração para base de dados de heatmap normalizado"
   ]
  },
  {
   "cell_type": "code",
   "execution_count": null,
   "id": "00d3001c",
   "metadata": {},
   "outputs": [],
   "source": [
    "heatmap_analysis_1_normalized = heatmap_analysis_1.div(heatmap_analysis_1.max(axis=1), axis=0).replace([np.inf, -np.inf], np.nan).fillna(0) "
   ]
  },
  {
   "cell_type": "markdown",
   "id": "f5a10ecd",
   "metadata": {},
   "source": [
    "### Apresentação de gráficos de heatmap"
   ]
  },
  {
   "cell_type": "code",
   "execution_count": null,
   "id": "6bc111eb",
   "metadata": {},
   "outputs": [],
   "source": [
    "plt.figure(figsize=(20,10))\n",
    "\n",
    "sns.heatmap(heatmap_analysis_1, annot=True)"
   ]
  },
  {
   "cell_type": "code",
   "execution_count": null,
   "id": "48548ba1",
   "metadata": {},
   "outputs": [],
   "source": [
    "plt.figure(figsize=(20,10))\n",
    "\n",
    "sns.heatmap(heatmap_analysis_1_normalized, annot=True)"
   ]
  },
  {
   "cell_type": "markdown",
   "id": "a756531a",
   "metadata": {},
   "source": [
    "## Análise 2 - Consumo energético em relação a consumo de recursos materiais"
   ]
  },
  {
   "cell_type": "markdown",
   "id": "069a5e13",
   "metadata": {},
   "source": [
    "### Geração para base de dados de heatmap"
   ]
  },
  {
   "cell_type": "code",
   "execution_count": null,
   "id": "8d24f20e",
   "metadata": {},
   "outputs": [],
   "source": [
    "heatmap_analysis_2 = []\n",
    "heatmap_analysis_2.append(pd.concat(\n",
    "    [enviroment_wood_extractor_indicator, enviroment_water_consum_indicator, enviroment_fossil_energy_use_indicator],\n",
    "axis=0))\n",
    "heatmap_analysis_2.append(pd.concat([economic_non_fossil_energy_use_indicator], axis=0))"
   ]
  },
  {
   "cell_type": "markdown",
   "id": "6c09c6db",
   "metadata": {},
   "source": [
    "### Geração para base de dados de heatmap normalizado"
   ]
  },
  {
   "cell_type": "code",
   "execution_count": null,
   "id": "b059e256",
   "metadata": {},
   "outputs": [],
   "source": [
    "heatmap_analysis_2_normalized = []\n",
    "heatmap_analysis_2_normalized.append(heatmap_analysis_2[0].div(heatmap_analysis_2[0].max(axis=1), axis=0).replace([np.inf, -np.inf], np.nan).fillna(0))\n",
    "heatmap_analysis_2_normalized.append(heatmap_analysis_2[1].div(heatmap_analysis_2[1].max(axis=1), axis=0).replace([np.inf, -np.inf], np.nan).fillna(0))"
   ]
  },
  {
   "cell_type": "markdown",
   "id": "0ec5026c",
   "metadata": {},
   "source": [
    "### Apresentação de gráficos de heatmap"
   ]
  },
  {
   "cell_type": "code",
   "execution_count": null,
   "id": "daaed348",
   "metadata": {},
   "outputs": [],
   "source": [
    "plt.figure(figsize=(20,10))\n",
    "\n",
    "sns.heatmap(heatmap_analysis_2[0], annot=True)"
   ]
  },
  {
   "cell_type": "code",
   "execution_count": null,
   "id": "8fd29942",
   "metadata": {},
   "outputs": [],
   "source": [
    "plt.figure(figsize=(20,20))\n",
    "\n",
    "sns.heatmap(heatmap_analysis_2[1], annot=True)"
   ]
  },
  {
   "cell_type": "code",
   "execution_count": null,
   "id": "6b8ef9f6",
   "metadata": {},
   "outputs": [],
   "source": [
    "plt.figure(figsize=(20,10))\n",
    "\n",
    "sns.heatmap(heatmap_analysis_2_normalized[0], annot=True)"
   ]
  },
  {
   "cell_type": "code",
   "execution_count": null,
   "id": "c64f1654",
   "metadata": {},
   "outputs": [],
   "source": [
    "plt.figure(figsize=(20,20))\n",
    "\n",
    "sns.heatmap(heatmap_analysis_2_normalized[1], annot=True)"
   ]
  },
  {
   "cell_type": "markdown",
   "id": "cf1eef5a",
   "metadata": {},
   "source": [
    "## Análise 3 - Análise de retorno financeiro para empresas com a ampliação de oportunidades e qualidade de emprego"
   ]
  },
  {
   "cell_type": "markdown",
   "id": "b87fe450",
   "metadata": {},
   "source": [
    "### Geração para base de dados de heatmap"
   ]
  },
  {
   "cell_type": "code",
   "execution_count": null,
   "id": "6edb9c46",
   "metadata": {},
   "outputs": [],
   "source": [
    "heatmap_analysis_3 = pd.concat(\n",
    "    [enviroment_job_creation_indicator, enviroment_profit_indicator, enviroment_employee_satisfaction_indicator],\n",
    "axis=0)"
   ]
  },
  {
   "cell_type": "markdown",
   "id": "d5a0e1cb",
   "metadata": {},
   "source": [
    "### Geração para base de dados de heatmap normalizado"
   ]
  },
  {
   "cell_type": "code",
   "execution_count": null,
   "id": "e4f2621a",
   "metadata": {},
   "outputs": [],
   "source": [
    "heatmap_analysis_3_normalized = heatmap_analysis_3.div(heatmap_analysis_3.max(axis=1), axis=0).replace([np.inf, -np.inf], np.nan).fillna(0)"
   ]
  },
  {
   "cell_type": "markdown",
   "id": "9a21c18a",
   "metadata": {},
   "source": [
    "### Apresentação de gráficos de heatmap"
   ]
  },
  {
   "cell_type": "code",
   "execution_count": null,
   "id": "dfde924b",
   "metadata": {},
   "outputs": [],
   "source": [
    "plt.figure(figsize=(20,8))\n",
    "\n",
    "sns.heatmap(heatmap_analysis_3, annot=True)"
   ]
  },
  {
   "cell_type": "code",
   "execution_count": null,
   "id": "6d8b307b",
   "metadata": {},
   "outputs": [],
   "source": [
    "plt.figure(figsize=(20,8))\n",
    "\n",
    "sns.heatmap(heatmap_analysis_3_normalized, annot=True)"
   ]
  },
  {
   "cell_type": "markdown",
   "id": "089ecdaa",
   "metadata": {},
   "source": [
    "## Análise 4 - Retorno para organizações/empresas conforme a variação de produtividade"
   ]
  },
  {
   "cell_type": "markdown",
   "id": "da74230b",
   "metadata": {},
   "source": [
    "### Geração para base de dados de heatmap"
   ]
  },
  {
   "cell_type": "code",
   "execution_count": null,
   "id": "5a9a5fd6",
   "metadata": {},
   "outputs": [],
   "source": [
    "heatmap_analysis_4 = pd.concat(\n",
    "    [enviroment_work_procutivity_indicator, enviroment_profit_indicator, enviroment_value_added_indicator, enviroment_employee_satisfaction_indicator],\n",
    "axis=0)"
   ]
  },
  {
   "cell_type": "markdown",
   "id": "a7455090",
   "metadata": {},
   "source": [
    "### Geração para base de dados de heatmap normalizado"
   ]
  },
  {
   "cell_type": "code",
   "execution_count": null,
   "id": "d901bca4",
   "metadata": {},
   "outputs": [],
   "source": [
    "heatmap_analysis_4_normalized = heatmap_analysis_4.div(heatmap_analysis_4.max(axis=1), axis=0).replace([np.inf, -np.inf], np.nan).fillna(0)"
   ]
  },
  {
   "cell_type": "markdown",
   "id": "59e94d21",
   "metadata": {},
   "source": [
    "### Apresentação de gráficos de heatmap"
   ]
  },
  {
   "cell_type": "code",
   "execution_count": null,
   "id": "f25d0bc5",
   "metadata": {},
   "outputs": [],
   "source": [
    "plt.figure(figsize=(20,8))\n",
    "\n",
    "sns.heatmap(heatmap_analysis_4, annot=True)"
   ]
  },
  {
   "cell_type": "code",
   "execution_count": null,
   "id": "76481725",
   "metadata": {},
   "outputs": [],
   "source": [
    "plt.figure(figsize=(20,8))\n",
    "\n",
    "sns.heatmap(heatmap_analysis_4_normalized, annot=True)"
   ]
  },
  {
   "cell_type": "markdown",
   "id": "0ab31053",
   "metadata": {},
   "source": [
    "## Análise 5 - Retorno para a sociedade com investimento de P&D"
   ]
  },
  {
   "cell_type": "markdown",
   "id": "94c3ec9d",
   "metadata": {},
   "source": [
    "### Geração para base de dados de heatmap"
   ]
  },
  {
   "cell_type": "code",
   "execution_count": null,
   "id": "d738238c",
   "metadata": {},
   "outputs": [],
   "source": [
    "heatmap_analysis_5 = []\n",
    "heatmap_analysis_5.append(pd.concat(\n",
    "    [enviroment_employee_satisfaction_indicator, enviroment_wellbeing_and_health_in_community_indicator],\n",
    "axis=0))\n",
    "heatmap_analysis_5.append(pd.concat([economic_research_and_development_investment_indicator, economic_social_project_investment_indicator], axis=0))"
   ]
  },
  {
   "cell_type": "markdown",
   "id": "272af2ad",
   "metadata": {},
   "source": [
    "### Geração para base de dados de heatmap normalizado"
   ]
  },
  {
   "cell_type": "code",
   "execution_count": null,
   "id": "661c3378",
   "metadata": {},
   "outputs": [],
   "source": [
    "heatmap_analysis_5_normalized = []\n",
    "heatmap_analysis_5_normalized.append(heatmap_analysis_5[0].div(heatmap_analysis_5[0].max(axis=1), axis=0).replace([np.inf, -np.inf], np.nan).fillna(0))\n",
    "heatmap_analysis_5_normalized.append(heatmap_analysis_5[1].div(heatmap_analysis_5[1].max(axis=1), axis=0).replace([np.inf, -np.inf], np.nan).fillna(0))"
   ]
  },
  {
   "cell_type": "markdown",
   "id": "64cacb93",
   "metadata": {},
   "source": [
    "### Apresentação de gráficos de heatmap"
   ]
  },
  {
   "cell_type": "code",
   "execution_count": null,
   "id": "4bb63e49",
   "metadata": {},
   "outputs": [],
   "source": [
    "plt.figure(figsize=(20,10))\n",
    "\n",
    "sns.heatmap(heatmap_analysis_5[0], annot=True)"
   ]
  },
  {
   "cell_type": "code",
   "execution_count": null,
   "id": "51faf4a0",
   "metadata": {
    "scrolled": true
   },
   "outputs": [],
   "source": [
    "plt.figure(figsize=(20,40))\n",
    "\n",
    "sns.heatmap(heatmap_analysis_5[1], annot=True)"
   ]
  },
  {
   "cell_type": "code",
   "execution_count": null,
   "id": "bb750703",
   "metadata": {},
   "outputs": [],
   "source": [
    "plt.figure(figsize=(20,8))\n",
    "\n",
    "sns.heatmap(heatmap_analysis_5_normalized[0], annot=True)"
   ]
  },
  {
   "cell_type": "code",
   "execution_count": null,
   "id": "5c9f9c9a",
   "metadata": {},
   "outputs": [],
   "source": [
    "plt.figure(figsize=(20,40))\n",
    "\n",
    "sns.heatmap(heatmap_analysis_5_normalized[1], annot=True)"
   ]
  },
  {
   "cell_type": "markdown",
   "id": "3df9c04b",
   "metadata": {},
   "source": [
    "## Análise 6 - Como a economia circular e gestão de resíduos impacta o uso de recursos naturais"
   ]
  },
  {
   "cell_type": "markdown",
   "id": "8f2fe37f",
   "metadata": {},
   "source": [
    "### Geração para base de dados de heatmap"
   ]
  },
  {
   "cell_type": "code",
   "execution_count": null,
   "id": "1215bf12",
   "metadata": {},
   "outputs": [],
   "source": [
    "heatmap_analysis_6 = []\n",
    "heatmap_analysis_6.append(pd.concat(\n",
    "    [enviroment_wood_extractor_indicator, enviroment_water_consum_indicator, enviroment_fossil_energy_use_indicator, enviroment_solid_waste_emission_indicator],\n",
    "axis=0))\n",
    "heatmap_analysis_6.append(pd.concat([economic_recycling_indicator], axis=0))"
   ]
  },
  {
   "cell_type": "markdown",
   "id": "f033bcdf",
   "metadata": {},
   "source": [
    "### Geração para base de dados de heatmap normalizado"
   ]
  },
  {
   "cell_type": "code",
   "execution_count": null,
   "id": "a6d4a80e",
   "metadata": {},
   "outputs": [],
   "source": [
    "heatmap_analysis_6_normalized = []\n",
    "heatmap_analysis_6_normalized.append(heatmap_analysis_6[0].div(heatmap_analysis_6[0].max(axis=1), axis=0).replace([np.inf, -np.inf], np.nan).fillna(0))\n",
    "heatmap_analysis_6_normalized.append(heatmap_analysis_6[1].div(heatmap_analysis_6[1].max(axis=1), axis=0).replace([np.inf, -np.inf], np.nan).fillna(0))"
   ]
  },
  {
   "cell_type": "markdown",
   "id": "09ac4836",
   "metadata": {},
   "source": [
    "### Apresentação de gráficos de heatmap"
   ]
  },
  {
   "cell_type": "code",
   "execution_count": null,
   "id": "f17d5362",
   "metadata": {},
   "outputs": [],
   "source": [
    "plt.figure(figsize=(20,10))\n",
    "\n",
    "sns.heatmap(heatmap_analysis_6[0], annot=True)"
   ]
  },
  {
   "cell_type": "code",
   "execution_count": null,
   "id": "fa6da152",
   "metadata": {},
   "outputs": [],
   "source": [
    "plt.figure(figsize=(20,20))\n",
    "\n",
    "sns.heatmap(heatmap_analysis_6[1], annot=True)"
   ]
  },
  {
   "cell_type": "code",
   "execution_count": null,
   "id": "5281971e",
   "metadata": {},
   "outputs": [],
   "source": [
    "plt.figure(figsize=(20,10))\n",
    "\n",
    "sns.heatmap(heatmap_analysis_6_normalized[0], annot=True)"
   ]
  },
  {
   "cell_type": "code",
   "execution_count": null,
   "id": "db5e7f6e",
   "metadata": {},
   "outputs": [],
   "source": [
    "plt.figure(figsize=(20,20))\n",
    "\n",
    "sns.heatmap(heatmap_analysis_6_normalized[1], annot=True)"
   ]
  }
 ],
 "metadata": {
  "kernelspec": {
   "display_name": "Python 3 (ipykernel)",
   "language": "python",
   "name": "python3"
  },
  "language_info": {
   "codemirror_mode": {
    "name": "ipython",
    "version": 3
   },
   "file_extension": ".py",
   "mimetype": "text/x-python",
   "name": "python",
   "nbconvert_exporter": "python",
   "pygments_lexer": "ipython3",
   "version": "3.9.13"
  }
 },
 "nbformat": 4,
 "nbformat_minor": 5
}
