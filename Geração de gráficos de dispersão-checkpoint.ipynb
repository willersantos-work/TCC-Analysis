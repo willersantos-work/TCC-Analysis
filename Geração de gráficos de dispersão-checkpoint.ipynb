{
 "cells": [
  {
   "cell_type": "markdown",
   "id": "5a28ed86",
   "metadata": {},
   "source": [
    "### Instalação de base de dados Pymrio"
   ]
  },
  {
   "cell_type": "code",
   "execution_count": null,
   "id": "998a58bd",
   "metadata": {},
   "outputs": [],
   "source": [
    "pip install pymrio"
   ]
  },
  {
   "cell_type": "code",
   "execution_count": null,
   "id": "31ce7d79",
   "metadata": {},
   "outputs": [],
   "source": [
    "import pymrio\n",
    "import pandas as pd\n",
    "import numpy as np\n",
    "import matplotlib.pyplot as plt # Biblioteca para criar gráficos \"comuns\" ao estilo Matlab\n",
    "import seaborn as sns # Biblioteca utilizada para criar gráficos mais \"bonitos\"\n",
    "from sklearn.linear_model import LinearRegression\n",
    "import math"
   ]
  },
  {
   "cell_type": "markdown",
   "id": "819b8c82",
   "metadata": {},
   "source": [
    "### Para a definição do ano da base de dados é necessário colocar o ano desejado na variável \"selected_years\""
   ]
  },
  {
   "cell_type": "code",
   "execution_count": null,
   "id": "dfa3f37e",
   "metadata": {},
   "outputs": [],
   "source": [
    "selected_years = [2015]"
   ]
  },
  {
   "cell_type": "code",
   "execution_count": null,
   "id": "69057a2e",
   "metadata": {},
   "outputs": [],
   "source": [
    "exio3 = pymrio.parse_exiobase3('/tmp/mrios/autodownload/EXIO3i/IOT_2015_ixi.zip')"
   ]
  },
  {
   "cell_type": "markdown",
   "id": "cc9e9831",
   "metadata": {},
   "source": [
    "### Utilizando a base de dados do Pymrio do ano especificado"
   ]
  },
  {
   "cell_type": "code",
   "execution_count": null,
   "id": "23793743",
   "metadata": {},
   "outputs": [],
   "source": [
    "exio3.calc_all()"
   ]
  },
  {
   "cell_type": "markdown",
   "id": "25b1b456",
   "metadata": {},
   "source": [
    "### Apresentação de possibilidades de variáveis no dataset, como as regiões, extensões tratadas, macro categorias na cadeia de suprimento, setores"
   ]
  },
  {
   "cell_type": "code",
   "execution_count": null,
   "id": "0bb8c06f",
   "metadata": {},
   "outputs": [],
   "source": [
    "categories = exio3.get_Y_categories()\n",
    "categories"
   ]
  },
  {
   "cell_type": "code",
   "execution_count": null,
   "id": "9986c7b2",
   "metadata": {},
   "outputs": [],
   "source": [
    "macro_categories = exio3.get_Y_categories()\n",
    "macro_categories"
   ]
  },
  {
   "cell_type": "code",
   "execution_count": null,
   "id": "c5feb54e",
   "metadata": {},
   "outputs": [],
   "source": [
    "selected_region_paper = [\"CN\", \"US\", \"DE\"]\n",
    "selected_region_paper_name = {\"CN\": \"China\", \"US\": \"EUA\", \"DE\": \"Alemanha\"}\n",
    "selected_region_pulp = [\"CN\", \"US\", \"CA\", \"SE\"]\n",
    "selected_region_pulp_name = {\"CN\": \"China\", \"US\": \"EUA\", \"CA\": \"Canadá\", \"SE\": \"Suécia\"}\n",
    "selected_region_all = [\"CN\", \"US\", \"JP\", \"SE\"]\n",
    "selected_region_all_name = {\"CN\": \"China\", \"US\": \"EUA\", \"JP\": \"Japão\", \"SE\": \"Suécia\"}\n",
    "selected_region_main = [\"BR\"]\n",
    "all_regions = {\"CN\": \"China\", \"US\": \"EUA\", \"DE\": \"Alemanha\", \"CA\": \"Canadá\", \"SE\": \"Suécia\", \"JP\": \"Japão\"}\n",
    "\n",
    "regions_array = selected_region_paper + selected_region_pulp + selected_region_all + selected_region_main\n",
    "all_main_regions = list(set(regions_array))"
   ]
  },
  {
   "cell_type": "code",
   "execution_count": null,
   "id": "4b0c889b",
   "metadata": {},
   "outputs": [],
   "source": [
    "sectors = exio3.get_sectors()\n",
    "sectors"
   ]
  },
  {
   "cell_type": "markdown",
   "id": "c6965dea",
   "metadata": {},
   "source": [
    "### Apresentação dos setores selecionados"
   ]
  },
  {
   "cell_type": "code",
   "execution_count": null,
   "id": "7a58cc88",
   "metadata": {},
   "outputs": [],
   "source": [
    "sectors = [\"Manure treatment (biogas), storage and land application\",\n",
    "\"Forestry, logging and related service activities (02)\",\n",
    "\"Manufacture of textiles (17)\",\n",
    "\"Manufacture of wearing apparel; dressing and dyeing of fur (18)\",\n",
    "\"Re-processing of secondary wood material into new wood material\",\n",
    "\"Pulp\",\n",
    "\"Re-processing of secondary paper into new pulp\",\n",
    "\"Paper\",\n",
    "\"Publishing, printing and reproduction of recorded media (22)\",\n",
    "\"Production of electricity by biomass and waste\"]"
   ]
  },
  {
   "cell_type": "markdown",
   "id": "a0e4499e",
   "metadata": {},
   "source": [
    "### Seleção de indicadores"
   ]
  },
  {
   "cell_type": "code",
   "execution_count": null,
   "id": "6da6f350",
   "metadata": {},
   "outputs": [],
   "source": [
    "wood_extractor_indicator = [\n",
    "    \"Domestic Extraction Used - Forestry - Coniferous wood - Industrial roundwood - satellite\",\n",
    "    \"Domestic Extraction Used - Forestry - Non-coniferous wood - Industrial roundwood - satellite\",\n",
    "    \"Domestic Extraction Used - Forestry - Raw materials other than wood - satellite\",\n",
    "    \"Unused Domestic Extraction - Forestry - Raw materials other than wood - satellite\",\n",
    "    \"Unused Domestic Extraction - Forestry - Coniferous wood - Industrial roundwood - satellite\",\n",
    "    \"Unused Domestic Extraction - Forestry - Non-coniferous wood - Industrial roundwood - satellite\"\n",
    "]\n",
    "# Indicador de extração de madeira utilizada e não utilizada\n",
    "# Base satellites"
   ]
  },
  {
   "cell_type": "code",
   "execution_count": null,
   "id": "dbb276e0",
   "metadata": {},
   "outputs": [],
   "source": [
    "water_consum_indicator = [\n",
    "    \"Water Consumption Blue - Manufacturing - Secondary paper for treatment, Re-processing of secondary paper into new pulp - satellite\",\n",
    "    \"Water Consumption Blue - Manufacturing - Paper and paper products - satellite\",\n",
    "    \"Water Consumption Blue - Manufacturing - Pulp - satellite\",\n",
    "    \"Water Consumption Blue - Total - impacts\"\n",
    "]\n",
    "# Indicador de consumo de água\n",
    "# Base satellites e o último impacts"
   ]
  },
  {
   "cell_type": "code",
   "execution_count": null,
   "id": "dd26e0f8",
   "metadata": {},
   "outputs": [],
   "source": [
    "value_added_indicator = [\n",
    "    \"Value Added - impacts\"\n",
    "]\n",
    "# Indicador de valor adicionado\n",
    "# Base indicators"
   ]
  },
  {
   "cell_type": "code",
   "execution_count": null,
   "id": "2428a850",
   "metadata": {},
   "outputs": [],
   "source": [
    "employee_satisfaction_indicator = [\n",
    "    \"Compensation of employees; wages, salaries, & employers' social contributions: Low-skilled - satellite\",\n",
    "    \"Compensation of employees; wages, salaries, & employers' social contributions: Medium-skilled - satellite\",\n",
    "    \"Compensation of employees; wages, salaries, & employers' social contributions: High-skilled - satellite\",\n",
    "    \"Employment: Vulnerable employment - satellite\",\n",
    "    \"Employment hours: Vulnerable employment - satellite\"\n",
    "]\n",
    "# Indicador de satisfação dos funcionários\n",
    "# Base satellite"
   ]
  },
  {
   "cell_type": "code",
   "execution_count": null,
   "id": "f2d906eb",
   "metadata": {},
   "outputs": [],
   "source": [
    "carbon_dioxid_emission_indicator = [\n",
    "    \"CO2 - combustion - air - satellite\",\n",
    "    \"CO - combustion - air - satellite\",\n",
    "    \"CO - non combustion - Semi-chemical wood pulp, pulp of fibers other than wood - air - satellite\",\n",
    "    \"CO - non combustion - Chemical wood pulp, dissolving grades - air - satellite\",\n",
    "    \"CO - non combustion - Chemical wood pulp, soda and sulphate, other than dissolving grades - air - satellite\",\n",
    "    \"CO - non combustion - Chemical wood pulp, sulphite, other than dissolving grades - air - satellite\"\n",
    "]\n",
    "# Indicador de emissão de dióxido de carbono (CO2)\n",
    "# Base satellite"
   ]
  },
  {
   "cell_type": "code",
   "execution_count": null,
   "id": "384e4b1b",
   "metadata": {},
   "outputs": [],
   "source": [
    "fossil_energy_use_indicator = [\n",
    "    \"Carbon dioxide (CO2) Fuel combustion - impacts\",\n",
    "    \"Domestic Extraction Used - Forestry - Coniferous wood - Wood fuel - satellite\",\n",
    "    \"Domestic Extraction Used - Forestry - Non-coniferous wood - Wood fuel - satellite\",\n",
    "    \"Unused Domestic Extraction - Forestry - Coniferous wood - Wood fuel - satellite\",\n",
    "    \"Unused Domestic Extraction - Forestry - Non-coniferous wood - Wood fuel - satellite\"\n",
    "]\n",
    "# Indicador de uso de energia fóssil\n",
    "# Base impacts (primeiro) e satellite (4 últimos)"
   ]
  },
  {
   "cell_type": "code",
   "execution_count": null,
   "id": "0aed91d7",
   "metadata": {},
   "outputs": [],
   "source": [
    "non_fossil_energy_use_indicator = [\n",
    "    \"Production of electricity by hydro\",\n",
    "    \"Production of electricity by wind\",\n",
    "    \"Production of electricity by biomass and waste\",\n",
    "    \"Production of electricity by solar photovoltaic\",\n",
    "    \"Production of electricity by solar thermal\",\n",
    "    \"Production of electricity by tide, wave, ocean\",\n",
    "    \"Production of electricity by Geothermal\",\n",
    "]\n",
    "# Indicador de emissão de outros poluentes\n",
    "# Base sectors"
   ]
  },
  {
   "cell_type": "code",
   "execution_count": null,
   "id": "3b3f22aa",
   "metadata": {},
   "outputs": [],
   "source": [
    "pollutants_emission_indicator = [\n",
    "    \"CH4 - combustion - air - satellite\",\n",
    "    \"N2O - combustion - air - satellite\",\n",
    "    \"SOx - combustion - air - satellite\",\n",
    "    \"NOx - combustion - air - satellite\",\n",
    "    \"NH3 - combustion - air - satellite\"\n",
    "]\n",
    "# Indicador de emissão de outros poluentes\n",
    "# Base satellite"
   ]
  },
  {
   "cell_type": "code",
   "execution_count": null,
   "id": "59d37e82",
   "metadata": {},
   "outputs": [],
   "source": [
    "wellbeing_and_health_in_community_indicator = [\n",
    "    \"Damages to human health caused by climate change (E.E) | ECOINDICATOR 99 (E.E) | Damages to human health caused by climate change (E.E) - impacts\",\n",
    "    \"Damage to Ecosystem Quality caused by ecotoxic emissions (E.E)) | ECOINDICATOR 99 (E.E) | Damage to Ecosystem Quality caused by ecotoxic emissions (E.E)) - impacts\",\n",
    "    \"Damage to Ecosystem Quality caused by the combined effect of acidification and eutrophication (E.E) | ECOINDICATOR 99 (E.E) | Damage to Ecosystem Quality caused by the combined effect of acidification and eutrophication (E.E) - impacts\",\n",
    "    \"Unused Domestic Extraction - Crop and Crop Residue - impacts\",\n",
    "    \"Unused Domestic Extraction - Grazing and Fodder - impacts\",\n",
    "    \"Unused Domestic Extraction - Forestry and Timber - impacts\",\n",
    "#     \"Unused Domestic Extraction - Fisheries - impacts\",\n",
    "    \"Unused Domestic Extraction - Non-metalic Minerals - impacts\",\n",
    "    \"Land use Crop, Forest, Pasture - impacts\"\n",
    "]\n",
    "# Indicador de bem-estar e saúde nas comunidades\n",
    "# Base satellite"
   ]
  },
  {
   "cell_type": "code",
   "execution_count": null,
   "id": "89ec7f6d",
   "metadata": {},
   "outputs": [],
   "source": [
    "solid_waste_emission_indicator = [\n",
    "    \"Unused Domestic Extraction - Forestry - Coniferous wood - Industrial roundwood - satellite\",\n",
    "    \"Unused Domestic Extraction - Forestry - Coniferous wood - Wood fuel - satellite\",\n",
    "    \"Unused Domestic Extraction - Forestry - Non-coniferous wood - Industrial roundwood - satellite\",\n",
    "    \"Unused Domestic Extraction - Forestry - Non-coniferous wood - Wood fuel - satellite\",\n",
    "    \"Unused Domestic Extraction - impacts\",\n",
    "    \"Unused Domestic Extraction - Forestry and Timber - impacts\"\n",
    "]\n",
    "# Indicador de uso de energia fóssil\n",
    "# Base impacts (dois últimos) e satellite (4 primeiros)"
   ]
  },
  {
   "cell_type": "code",
   "execution_count": null,
   "id": "b6d7d082",
   "metadata": {},
   "outputs": [],
   "source": [
    "research_and_development_investment_indicator = [\n",
    "    \"Real estate activities (70)\",\n",
    "    \"Research and development (73)\",\n",
    "    \"Air transport (62)\",\n",
    "    \"Inland water transport\",\n",
    "    \"Sea and coastal water transport\",\n",
    "    \"Other land transport\",\n",
    "    \"Transport via railways\",\n",
    "    \"Computer and related activities (72)\",\n",
    "    \"Extra-territorial organizations and bodies\"\n",
    "]\n",
    "# Indicador de investimento em pesquisa e desenvolvimento\n",
    "# Base economic sectors"
   ]
  },
  {
   "cell_type": "code",
   "execution_count": null,
   "id": "ab7269b4",
   "metadata": {},
   "outputs": [],
   "source": [
    "social_project_investment_indicator = [\n",
    "    \"Publishing, printing and reproduction of recorded media (22)\",\n",
    "    \"Education (80)\",\n",
    "    \"Health and social work (85)\",\n",
    "    \"Recreational, cultural and sporting activities (92)\",\n",
    "    \"Public administration and defence; compulsory social security (75)\"\n",
    "]\n",
    "# Indicador de investimento em projetos sociais\n",
    "# Base economic sectors"
   ]
  },
  {
   "cell_type": "code",
   "execution_count": null,
   "id": "de79fffb",
   "metadata": {},
   "outputs": [],
   "source": [
    "recycling_indicator = [\n",
    "    \"Landfill of waste: Wood\",\n",
    "    \"Landfill of waste: Paper\",\n",
    "    \"Biogasification of sewage slugde, incl. land application\",\n",
    "    \"Biogasification of paper, incl. land application\",\n",
    "    \"Composting of paper and wood, incl. land application\",\n",
    "    \"Re-processing of secondary wood material into new wood material\",\n",
    "    \"Re-processing of secondary paper into new pulp\"\n",
    "]\n",
    "# Indicador de índice de reciclagem\n",
    "# Base economic sectors"
   ]
  },
  {
   "cell_type": "code",
   "execution_count": null,
   "id": "db80c5f1",
   "metadata": {},
   "outputs": [],
   "source": [
    "profit_indicator = [\n",
    "    \"Operating surplus: Consumption of fixed capital - satellite\",\n",
    "    \"Operating surplus: Rents on land - satellite\",\n",
    "    \"Operating surplus: Royalties on resources - satellite\",\n",
    "    \"Operating surplus: Remaining net operating surplus - satellite\"\n",
    "]\n",
    "# Indicador de lucro bruto\n",
    "# Base satellite"
   ]
  },
  {
   "cell_type": "code",
   "execution_count": null,
   "id": "751f787c",
   "metadata": {},
   "outputs": [],
   "source": [
    "work_procutivity_indicator = [\n",
    "    \"Employment hours: Low-skilled male - satellite\",\n",
    "    \"Employment hours: Low-skilled female - satellite\",\n",
    "    \"Employment hours: Medium-skilled male - satellite\",\n",
    "    \"Employment hours: Medium-skilled female - satellite\",\n",
    "    \"Employment hours: High-skilled male - satellite\",\n",
    "    \"Employment hours: High-skilled female - satellite\"\n",
    "]\n",
    "# Indicador de Produtividade no trabalho\n",
    "# Base satellite"
   ]
  },
  {
   "cell_type": "code",
   "execution_count": null,
   "id": "1b652e44",
   "metadata": {},
   "outputs": [],
   "source": [
    "job_creation_indicator = [\n",
    "    \"Employment: Low-skilled male - satellite\",\n",
    "    \"Employment: Low-skilled female - satellite\",\n",
    "    \"Employment: Medium-skilled male - satellite\",\n",
    "    \"Employment: Medium-skilled female - satellite\",\n",
    "    \"Employment: High-skilled male - satellite\",\n",
    "    \"Employment: High-skilled female - satellite\"\n",
    "]\n",
    "# Indicador de Geração de emprego\n",
    "# Base satellite"
   ]
  },
  {
   "cell_type": "markdown",
   "id": "9822babe",
   "metadata": {},
   "source": [
    "### Dicionário para nome dos indicadores"
   ]
  },
  {
   "cell_type": "code",
   "execution_count": null,
   "id": "3ad7a3e3",
   "metadata": {},
   "outputs": [],
   "source": []
  },
  {
   "cell_type": "markdown",
   "id": "42c53890",
   "metadata": {},
   "source": [
    "### Organização de base de dados por região"
   ]
  },
  {
   "cell_type": "code",
   "execution_count": null,
   "id": "a0b18010",
   "metadata": {},
   "outputs": [],
   "source": [
    "# Brasil na pesquisa\n",
    "economic_L = exio3.L.BR[sectors].loc[all_main_regions]\n",
    "economic_Z = exio3.Z.BR[sectors].loc[all_main_regions]\n",
    "satellite_D = exio3.satellite.D_cba.BR[sectors]\n",
    "satellite_F = exio3.satellite.F.BR[sectors]\n",
    "impacts_D = exio3.impacts.D_cba.BR[sectors]\n",
    "impacts_F = exio3.impacts.F.BR[sectors]\n",
    "\n",
    "enviroment_D = pd.concat([satellite_D.rename(index=lambda x: f\"{x} - satellite\"), impacts_D.rename(index=lambda x: f\"{x} - impacts\")], axis=0)\n",
    "enviroment_F = pd.concat([satellite_F.rename(index=lambda x: f\"{x} - satellite\"), impacts_F.rename(index=lambda x: f\"{x} - impacts\")], axis=0)"
   ]
  },
  {
   "cell_type": "code",
   "execution_count": null,
   "id": "e0958b8c",
   "metadata": {},
   "outputs": [],
   "source": [
    "# [\"CN\", \"US\", \"CA\", \"SE\"]\n",
    "# líderes pulp na pesquisa\n",
    "economic_L_pulp = []\n",
    "economic_Z_pulp = []\n",
    "enviroment_D_pulp = []\n",
    "enviroment_F_pulp = []\n",
    "\n",
    "for region_name in selected_region_pulp:\n",
    "    economic_L_pulp.append((region_name, exio3.L[region_name][sectors].loc[all_main_regions]))\n",
    "    economic_Z_pulp.append((region_name, exio3.Z[region_name][sectors].loc[all_main_regions]))\n",
    "\n",
    "    satellite_D_pulp = exio3.satellite.D_cba[region_name][sectors]\n",
    "    satellite_F_pulp = exio3.satellite.F[region_name][sectors]\n",
    "    impacts_D_pulp = exio3.impacts.D_cba[region_name][sectors]\n",
    "    impacts_F_pulp = exio3.impacts.F[region_name][sectors]\n",
    "\n",
    "    enviroment_D_one = pd.concat([satellite_D_pulp.rename(index=lambda x: f\"{x} - satellite\"), impacts_D_pulp.rename(index=lambda x: f\"{x} - impacts\")], axis=0)\n",
    "    enviroment_F_one = pd.concat([satellite_F_pulp.rename(index=lambda x: f\"{x} - satellite\"), impacts_F_pulp.rename(index=lambda x: f\"{x} - impacts\")], axis=0)\n",
    "\n",
    "    enviroment_D_pulp.append((region_name, enviroment_D_one))\n",
    "    enviroment_F_pulp.append((region_name, enviroment_F_one))\n",
    "\n",
    "# [0] access region_name [1] access database"
   ]
  },
  {
   "cell_type": "code",
   "execution_count": null,
   "id": "fd1defb8",
   "metadata": {},
   "outputs": [],
   "source": [
    "# [\"CN\", \"US\", \"DE\", \"IN\"]\n",
    "# líderes paper na pesquisa\n",
    "economic_L_paper = []\n",
    "economic_Z_paper = []\n",
    "enviroment_D_paper = []\n",
    "enviroment_F_paper = []\n",
    "\n",
    "for region_name in selected_region_paper:\n",
    "    economic_L_paper.append((region_name, exio3.L[region_name][sectors].loc[all_main_regions]))\n",
    "    economic_Z_paper.append((region_name, exio3.Z[region_name][sectors].loc[all_main_regions]))\n",
    "\n",
    "    satellite_D_paper = exio3.satellite.D_cba[region_name][sectors]\n",
    "    satellite_F_paper = exio3.satellite.F[region_name][sectors]\n",
    "    impacts_D_paper = exio3.impacts.D_cba[region_name][sectors]\n",
    "    impacts_F_paper = exio3.impacts.F[region_name][sectors]\n",
    "\n",
    "    enviroment_D_one = pd.concat([satellite_D_paper.rename(index=lambda x: f\"{x} - satellite\"), impacts_D_paper.rename(index=lambda x: f\"{x} - impacts\")], axis=0)\n",
    "    enviroment_F_one = pd.concat([satellite_F_paper.rename(index=lambda x: f\"{x} - satellite\"), impacts_F_paper.rename(index=lambda x: f\"{x} - impacts\")], axis=0)\n",
    "\n",
    "    enviroment_D_paper.append((region_name, enviroment_D_one))\n",
    "    enviroment_F_paper.append((region_name, enviroment_F_one))\n",
    "\n",
    "# [0] access region_name [1] access database"
   ]
  },
  {
   "cell_type": "code",
   "execution_count": null,
   "id": "301ace69",
   "metadata": {},
   "outputs": [],
   "source": [
    "# [\"CN\", \"US\", \"JP\", \"SE\"]\n",
    "# líderes paper na pesquisa\n",
    "economic_L_all = []\n",
    "economic_Z_all = []\n",
    "enviroment_D_all = []\n",
    "enviroment_F_all = []\n",
    "\n",
    "for region_name in selected_region_all:\n",
    "    economic_L_all.append((region_name, exio3.L[region_name][sectors].loc[all_main_regions]))\n",
    "    economic_Z_all.append((region_name, exio3.Z[region_name][sectors].loc[all_main_regions]))\n",
    "\n",
    "    satellite_D_all = exio3.satellite.D_cba[region_name][sectors]\n",
    "    satellite_F_all = exio3.satellite.F[region_name][sectors]\n",
    "    impacts_D_all = exio3.impacts.D_cba[region_name][sectors]\n",
    "    impacts_F_all = exio3.impacts.F[region_name][sectors]\n",
    "\n",
    "    enviroment_D_one = pd.concat([satellite_D_all.rename(index=lambda x: f\"{x} - satellite\"), impacts_D_all.rename(index=lambda x: f\"{x} - impacts\")], axis=0)\n",
    "    enviroment_F_one = pd.concat([satellite_F_all.rename(index=lambda x: f\"{x} - satellite\"), impacts_F_all.rename(index=lambda x: f\"{x} - impacts\")], axis=0)\n",
    "\n",
    "    enviroment_D_all.append((region_name, enviroment_D_one))\n",
    "    enviroment_F_all.append((region_name, enviroment_F_one))\n",
    "\n",
    "# [0] access region_name [1] access database"
   ]
  },
  {
   "cell_type": "markdown",
   "id": "acbec911",
   "metadata": {},
   "source": [
    "### Definição de base de dados para acessar segmentado por indicador"
   ]
  },
  {
   "cell_type": "markdown",
   "id": "2c9455ca",
   "metadata": {},
   "source": [
    "**Brasil**"
   ]
  },
  {
   "cell_type": "code",
   "execution_count": null,
   "id": "a48b9585",
   "metadata": {},
   "outputs": [],
   "source": [
    "enviroment_wood_extractor_indicator = enviroment_D.loc[wood_extractor_indicator]\n",
    "enviroment_water_consum_indicator = enviroment_D.loc[water_consum_indicator]\n",
    "enviroment_value_added_indicator = enviroment_D.loc[value_added_indicator]\n",
    "enviroment_employee_satisfaction_indicator = enviroment_D.loc[employee_satisfaction_indicator]\n",
    "enviroment_carbon_dioxid_emission_indicator = enviroment_D.loc[carbon_dioxid_emission_indicator]\n",
    "enviroment_fossil_energy_use_indicator = enviroment_D.loc[fossil_energy_use_indicator]\n",
    "enviroment_pollutants_emission_indicator = enviroment_D.loc[pollutants_emission_indicator]\n",
    "enviroment_solid_waste_emission_indicator = enviroment_D.loc[solid_waste_emission_indicator]\n",
    "enviroment_profit_indicator = enviroment_D.loc[profit_indicator]\n",
    "enviroment_work_procutivity_indicator = enviroment_D.loc[work_procutivity_indicator]\n",
    "enviroment_job_creation_indicator = enviroment_D.loc[job_creation_indicator]\n",
    "enviroment_wellbeing_and_health_in_community_indicator = enviroment_D.loc[wellbeing_and_health_in_community_indicator]\n",
    "\n",
    "economic_non_fossil_energy_use_indicator = economic_Z.loc[(economic_Z.index.get_level_values(1).isin(non_fossil_energy_use_indicator))]\n",
    "economic_research_and_development_investment_indicator = economic_Z.loc[(economic_Z.index.get_level_values(1).isin(research_and_development_investment_indicator))]\n",
    "economic_social_project_investment_indicator = economic_Z.loc[(economic_Z.index.get_level_values(1).isin(social_project_investment_indicator))]\n",
    "economic_recycling_indicator = economic_Z.loc[(economic_Z.index.get_level_values(1).isin(recycling_indicator))]"
   ]
  },
  {
   "cell_type": "markdown",
   "id": "90a7c605",
   "metadata": {},
   "source": [
    "**Países de celulose**"
   ]
  },
  {
   "cell_type": "code",
   "execution_count": null,
   "id": "8b6e4103",
   "metadata": {},
   "outputs": [],
   "source": [
    "enviroment = enviroment_D_pulp\n",
    "economic = economic_Z_pulp\n",
    "\n",
    "def filter_indicator(indicator, is_economic = False):\n",
    "    arr = []\n",
    "    \n",
    "    if (is_economic == False):\n",
    "        for i in enviroment:\n",
    "            arr.append((i[0], i[1].loc[indicator]))\n",
    "    else:\n",
    "        for i in economic:\n",
    "            arr.append((i[0], i[1].loc[(i[1].index.get_level_values(1).isin(indicator))]))\n",
    "\n",
    "    return arr\n",
    "\n",
    "enviroment_wood_extractor_indicator_pulp = filter_indicator(wood_extractor_indicator)\n",
    "enviroment_water_consum_indicator_pulp = filter_indicator(water_consum_indicator)\n",
    "enviroment_value_added_indicator_pulp = filter_indicator(value_added_indicator)\n",
    "enviroment_employee_satisfaction_indicator_pulp = filter_indicator(employee_satisfaction_indicator)\n",
    "enviroment_carbon_dioxid_emission_indicator_pulp = filter_indicator(carbon_dioxid_emission_indicator)\n",
    "enviroment_fossil_energy_use_indicator_pulp = filter_indicator(fossil_energy_use_indicator)\n",
    "enviroment_pollutants_emission_indicator_pulp = filter_indicator(pollutants_emission_indicator)\n",
    "enviroment_solid_waste_emission_indicator_pulp = filter_indicator(solid_waste_emission_indicator)\n",
    "enviroment_profit_indicator_pulp = filter_indicator(profit_indicator)\n",
    "enviroment_work_procutivity_indicator_pulp = filter_indicator(work_procutivity_indicator)\n",
    "enviroment_job_creation_indicator_pulp = filter_indicator(job_creation_indicator)\n",
    "enviroment_wellbeing_and_health_in_community_indicator_pulp = filter_indicator(wellbeing_and_health_in_community_indicator)\n",
    "\n",
    "economic_non_fossil_energy_use_indicator_pulp = filter_indicator(non_fossil_energy_use_indicator, True)\n",
    "economic_research_and_development_investment_indicator_pulp = filter_indicator(research_and_development_investment_indicator, True)\n",
    "economic_social_project_investment_indicator_pulp = filter_indicator(social_project_investment_indicator, True)\n",
    "economic_recycling_indicator_pulp = filter_indicator(recycling_indicator, True)"
   ]
  },
  {
   "cell_type": "markdown",
   "id": "5730a864",
   "metadata": {},
   "source": [
    "**Países de papel**"
   ]
  },
  {
   "cell_type": "code",
   "execution_count": null,
   "id": "5f3b2c4f",
   "metadata": {},
   "outputs": [],
   "source": [
    "enviroment = enviroment_D_paper\n",
    "economic = economic_Z_paper\n",
    "\n",
    "def filter_indicator(indicator, is_economic = False):\n",
    "    arr = []\n",
    "    \n",
    "    if (is_economic == False):\n",
    "        for i in enviroment:\n",
    "            arr.append((i[0], i[1].loc[indicator]))\n",
    "    else:\n",
    "        for i in economic:\n",
    "            arr.append((i[0], i[1].loc[(i[1].index.get_level_values(1).isin(indicator))]))\n",
    "\n",
    "    return arr\n",
    "\n",
    "enviroment_wood_extractor_indicator_paper = filter_indicator(wood_extractor_indicator)\n",
    "enviroment_water_consum_indicator_paper = filter_indicator(water_consum_indicator)\n",
    "enviroment_value_added_indicator_paper = filter_indicator(value_added_indicator)\n",
    "enviroment_employee_satisfaction_indicator_paper = filter_indicator(employee_satisfaction_indicator)\n",
    "enviroment_carbon_dioxid_emission_indicator_paper = filter_indicator(carbon_dioxid_emission_indicator)\n",
    "enviroment_fossil_energy_use_indicator_paper = filter_indicator(fossil_energy_use_indicator)\n",
    "enviroment_pollutants_emission_indicator_paper = filter_indicator(pollutants_emission_indicator)\n",
    "enviroment_solid_waste_emission_indicator_paper = filter_indicator(solid_waste_emission_indicator)\n",
    "enviroment_profit_indicator_paper = filter_indicator(profit_indicator)\n",
    "enviroment_work_procutivity_indicator_paper = filter_indicator(work_procutivity_indicator)\n",
    "enviroment_job_creation_indicator_paper = filter_indicator(job_creation_indicator)\n",
    "enviroment_wellbeing_and_health_in_community_indicator_paper = filter_indicator(wellbeing_and_health_in_community_indicator)\n",
    "\n",
    "economic_non_fossil_energy_use_indicator_paper = filter_indicator(non_fossil_energy_use_indicator, True)\n",
    "economic_research_and_development_investment_indicator_paper = filter_indicator(research_and_development_investment_indicator, True)\n",
    "economic_social_project_investment_indicator_paper = filter_indicator(social_project_investment_indicator, True)\n",
    "economic_recycling_indicator_paper = filter_indicator(recycling_indicator, True)"
   ]
  },
  {
   "cell_type": "markdown",
   "id": "107a4f89",
   "metadata": {},
   "source": [
    "**Países ambos**"
   ]
  },
  {
   "cell_type": "code",
   "execution_count": null,
   "id": "bdd879c3",
   "metadata": {},
   "outputs": [],
   "source": [
    "enviroment = enviroment_D_all\n",
    "economic = economic_Z_all\n",
    "\n",
    "def filter_indicator(indicator, is_economic = False):\n",
    "    arr = []\n",
    "    \n",
    "    if (is_economic == False):\n",
    "        for i in enviroment:\n",
    "            arr.append((i[0], i[1].loc[indicator]))\n",
    "    else:\n",
    "        for i in economic:\n",
    "            arr.append((i[0], i[1].loc[(i[1].index.get_level_values(1).isin(indicator))]))\n",
    "\n",
    "    return arr\n",
    "\n",
    "enviroment_wood_extractor_indicator_all = filter_indicator(wood_extractor_indicator)\n",
    "enviroment_water_consum_indicator_all = filter_indicator(water_consum_indicator)\n",
    "enviroment_value_added_indicator_all = filter_indicator(value_added_indicator)\n",
    "enviroment_employee_satisfaction_indicator_all = filter_indicator(employee_satisfaction_indicator)\n",
    "enviroment_carbon_dioxid_emission_indicator_all = filter_indicator(carbon_dioxid_emission_indicator)\n",
    "enviroment_fossil_energy_use_indicator_all = filter_indicator(fossil_energy_use_indicator)\n",
    "enviroment_pollutants_emission_indicator_all = filter_indicator(pollutants_emission_indicator)\n",
    "enviroment_solid_waste_emission_indicator_all = filter_indicator(solid_waste_emission_indicator)\n",
    "enviroment_profit_indicator_all = filter_indicator(profit_indicator)\n",
    "enviroment_work_procutivity_indicator_all = filter_indicator(work_procutivity_indicator)\n",
    "enviroment_job_creation_indicator_all = filter_indicator(job_creation_indicator)\n",
    "enviroment_wellbeing_and_health_in_community_indicator_all = filter_indicator(wellbeing_and_health_in_community_indicator)\n",
    "\n",
    "economic_non_fossil_energy_use_indicator_all = filter_indicator(non_fossil_energy_use_indicator, True)\n",
    "economic_research_and_development_investment_indicator_all = filter_indicator(research_and_development_investment_indicator, True)\n",
    "economic_social_project_investment_indicator_all = filter_indicator(social_project_investment_indicator, True)\n",
    "economic_recycling_indicator_all = filter_indicator(recycling_indicator, True)"
   ]
  },
  {
   "cell_type": "markdown",
   "id": "4e201969",
   "metadata": {},
   "source": [
    "### Function para plotar gráficos de dispersão"
   ]
  },
  {
   "cell_type": "code",
   "execution_count": null,
   "id": "38f6824d",
   "metadata": {},
   "outputs": [],
   "source": [
    "def textSplicing(text, number_of_chars): \n",
    "    string = \"\"\n",
    "    for i in range(0, len(text), number_of_chars):\n",
    "        string += text[i:i+number_of_chars] + \"\\n\"\n",
    "    return string\n",
    "\n",
    "def column_factor_calc(total_graphics):\n",
    "    splitter = 1\n",
    "    for i in range(1, 6):\n",
    "        remainder = total_graphics % i\n",
    "        if remainder == 0:\n",
    "            splitter = i\n",
    "    \n",
    "    return splitter\n",
    "\n",
    "def generate_dispersion_graph(dataframe_1, dataframe_2, indicator_1, indicator_2, indicator_name_1 = \"\", indicator_name_2 = \"\", with_messages = True):\n",
    "    discounted_indicators = 0\n",
    "    for especific_indicator_x in indicator_1:\n",
    "        for especific_indicator_y in indicator_2:\n",
    "            indicator_array_x = dataframe_1.loc[especific_indicator_x]\n",
    "            indicator_array_y = dataframe_2.loc[especific_indicator_y]\n",
    "            if (all(v == 0 for v in indicator_array_x) == True or all(v == 0 for v in indicator_array_y) == True):\n",
    "                discounted_indicators+=1\n",
    "\n",
    "    total_graphics = ((len(indicator_1) * len(indicator_2)) - discounted_indicators)\n",
    "    num_cols = column_factor_calc(total_graphics)\n",
    "    print(num_cols)\n",
    "    num_rows = int(total_graphics / num_cols)\n",
    "\n",
    "    fig, axs = plt.subplots(nrows=num_rows, ncols = num_cols, figsize=(num_cols * 6, num_rows * (16 / num_cols)))\n",
    "    labels = []\n",
    "    n = 0\n",
    "\n",
    "    if (with_messages):\n",
    "        print(f\"{indicator_name_1} X {indicator_name_2}\\n\\n\")\n",
    "\n",
    "        print('Legenda de pontos')\n",
    "        for i, column_name in enumerate(dataframe_1.columns):\n",
    "            print(f\"{i}: {column_name}\")\n",
    "\n",
    "        print('\\n\\nTítulo dos gráficos')\n",
    "\n",
    "    for i, column_name in enumerate(dataframe_1.columns):\n",
    "            labels.append(str(i+1))\n",
    "            \n",
    "    for especific_indicator_x in indicator_1:\n",
    "        for especific_indicator_y in indicator_2:\n",
    "            row_position = int(n/num_cols)\n",
    "            col_position = n - num_cols * int(n/num_cols)\n",
    "\n",
    "            indicator_array_x = dataframe_1.loc[especific_indicator_x]\n",
    "            indicator_array_y = dataframe_2.loc[especific_indicator_y]\n",
    "\n",
    "            if (all(v == 0 for v in indicator_array_x) == False and all(v == 0 for v in indicator_array_y) == False):\n",
    "                if (with_messages):\n",
    "                    print(f\"Gráfico {n+1} (r: {row_position+1}, c: {col_position+1}) - {especific_indicator_y} X {especific_indicator_x}\")\n",
    "\n",
    "                ax = axs[row_position, col_position]\n",
    "                ax.scatter(indicator_array_x, indicator_array_y, color='orange')\n",
    "                ax.set_xlabel(f\"{indicator_name_1}\")\n",
    "                ax.set_ylabel(f\"{indicator_name_2}\")\n",
    "\n",
    "                for i, label in enumerate(labels):\n",
    "                    ax.annotate(label, (indicator_array_x[i], indicator_array_y[i]), xytext=(0, 3*i), textcoords='offset points')\n",
    "\n",
    "                n+=1\n",
    "\n",
    "    print(\"\\n\")\n",
    "    plt.show()"
   ]
  },
  {
   "cell_type": "markdown",
   "id": "41129492",
   "metadata": {},
   "source": [
    "## Análise 1 - Impacto ao meio ambiente com a extração da principal `matéria-prima` (madeira)"
   ]
  },
  {
   "cell_type": "markdown",
   "id": "f5a10ecd",
   "metadata": {},
   "source": [
    "#### Apresentação de gráficos de dispersão - Brasil"
   ]
  },
  {
   "cell_type": "code",
   "execution_count": null,
   "id": "6bc111eb",
   "metadata": {},
   "outputs": [],
   "source": [
    "indicator_1 = wood_extractor_indicator\n",
    "indicator_2 = water_consum_indicator\n",
    "dataframe_1 = enviroment_wood_extractor_indicator\n",
    "dataframe_2 = enviroment_water_consum_indicator\n",
    "\n",
    "generate_dispersion_graph(dataframe_1, dataframe_2, indicator_1, indicator_2, \"Wood extractor\", \"Water consum\")"
   ]
  },
  {
   "cell_type": "code",
   "execution_count": null,
   "id": "44ef0e3f",
   "metadata": {},
   "outputs": [],
   "source": [
    "indicator_1 = wood_extractor_indicator\n",
    "indicator_2 = carbon_dioxid_emission_indicator\n",
    "dataframe_1 = enviroment_wood_extractor_indicator\n",
    "dataframe_2 = enviroment_carbon_dioxid_emission_indicator\n",
    "\n",
    "generate_dispersion_graph(dataframe_1, dataframe_2, indicator_1, indicator_2, \"Wood extractor\", \"CO2 emission\")"
   ]
  },
  {
   "cell_type": "markdown",
   "id": "073a449f",
   "metadata": {},
   "source": [
    "#### Apresentação de gráficos de dispersão - Países"
   ]
  },
  {
   "cell_type": "code",
   "execution_count": null,
   "id": "4104639e",
   "metadata": {},
   "outputs": [],
   "source": [
    "indicator_1 = wood_extractor_indicator\n",
    "indicator_2 = water_consum_indicator\n",
    "dataframes_1 = enviroment_wood_extractor_indicator_pulp\n",
    "dataframes_2 = enviroment_water_consum_indicator_pulp\n",
    "\n",
    "for dataframe_tuple_1, dataframe_tuple_2 in zip(dataframes_1, dataframes_2):\n",
    "    country_acronym = dataframe_tuple_1[0]\n",
    "    dataframe_1 = dataframe_tuple_1[1]\n",
    "    dataframe_2 = dataframe_tuple_2[1]\n",
    "    \n",
    "    print(f\"{selected_region_pulp_name[country_acronym]}\")\n",
    "    generate_dispersion_graph(dataframe_1, dataframe_2, indicator_1, indicator_2, \"Wood extractor\", \"Water consum\", False)"
   ]
  },
  {
   "cell_type": "code",
   "execution_count": null,
   "id": "0bf36760",
   "metadata": {},
   "outputs": [],
   "source": [
    "indicator_1 = wood_extractor_indicator\n",
    "indicator_2 = carbon_dioxid_emission_indicator\n",
    "dataframes_1 = enviroment_wood_extractor_indicator_pulp\n",
    "dataframes_2 = enviroment_carbon_dioxid_emission_indicator_pulp\n",
    "\n",
    "for dataframe_tuple_1, dataframe_tuple_2 in zip(dataframes_1, dataframes_2):\n",
    "    country_acronym = dataframe_tuple_1[0]\n",
    "    dataframe_1 = dataframe_tuple_1[1]\n",
    "    dataframe_2 = dataframe_tuple_2[1]\n",
    "    \n",
    "    print(f\"{selected_region_pulp_name[country_acronym]}\")\n",
    "    generate_dispersion_graph(dataframe_1, dataframe_2, indicator_1, indicator_2, \"Wood extractor\", \"CO2 emission\", False)\n",
    "\n",
    "for dataframe_tuple_1, dataframe_tuple_2 in zip(dataframes_1, dataframes_2):\n",
    "    country_acronym = dataframe_tuple_1[0]\n",
    "    dataframe_1 = dataframe_tuple_1[1]\n",
    "    dataframe_2 = dataframe_tuple_2[1]\n",
    "    \n",
    "    print(f\"{selected_region_pulp_name[country_acronym]}\")\n",
    "    generate_dispersion_graph(dataframe_1, dataframe_2, indicator_1, indicator_2, \"Wood extractor\", \"CO2 emission\", False)"
   ]
  },
  {
   "cell_type": "markdown",
   "id": "bde4268d",
   "metadata": {},
   "source": [
    "#### Apresentação de gráficos de dispersão - Brasil"
   ]
  },
  {
   "cell_type": "code",
   "execution_count": null,
   "id": "cf8c96e9",
   "metadata": {},
   "outputs": [],
   "source": [
    "indicator_1 = wood_extractor_indicator\n",
    "indicator_2 = water_consum_indicator\n",
    "dataframe_1 = enviroment_wood_extractor_indicator\n",
    "dataframe_2 = enviroment_water_consum_indicator\n",
    "\n",
    "generate_dispersion_graph(dataframe_1, dataframe_2, indicator_1, indicator_2, \"Wood extractor\", \"Water consum\")"
   ]
  },
  {
   "cell_type": "code",
   "execution_count": null,
   "id": "20b48ea6",
   "metadata": {},
   "outputs": [],
   "source": [
    "indicator_1 = wood_extractor_indicator\n",
    "indicator_2 = carbon_dioxid_emission_indicator\n",
    "dataframe_1 = enviroment_wood_extractor_indicator\n",
    "dataframe_2 = enviroment_carbon_dioxid_emission_indicator\n",
    "\n",
    "generate_dispersion_graph(dataframe_1, dataframe_2, indicator_1, indicator_2, \"Wood extractor\", \"CO2 emission\")"
   ]
  },
  {
   "cell_type": "markdown",
   "id": "8fc152bd",
   "metadata": {},
   "source": [
    "#### Apresentação de gráficos de dispersão - Países"
   ]
  },
  {
   "cell_type": "code",
   "execution_count": null,
   "id": "3ff27e0b",
   "metadata": {},
   "outputs": [],
   "source": [
    "indicator_1 = wood_extractor_indicator\n",
    "indicator_2 = water_consum_indicator\n",
    "dataframes_1 = enviroment_wood_extractor_indicator_pulp\n",
    "dataframes_2 = enviroment_water_consum_indicator_pulp\n",
    "\n",
    "for dataframe_tuple_1, dataframe_tuple_2 in zip(dataframes_1, dataframes_2):\n",
    "    country_acronym = dataframe_tuple_1[0]\n",
    "    dataframe_1 = dataframe_tuple_1[1]\n",
    "    dataframe_2 = dataframe_tuple_2[1]\n",
    "    \n",
    "    print(f\"{selected_region_pulp_name[country_acronym]}\")\n",
    "    generate_dispersion_graph(dataframe_1, dataframe_2, indicator_1, indicator_2, \"Wood extractor\", \"Water consum\", False)"
   ]
  },
  {
   "cell_type": "code",
   "execution_count": null,
   "id": "ef1ec7c6",
   "metadata": {},
   "outputs": [],
   "source": [
    "indicator_1 = wood_extractor_indicator\n",
    "indicator_2 = carbon_dioxid_emission_indicator\n",
    "dataframes_1 = enviroment_wood_extractor_indicator_pulp\n",
    "dataframes_2 = enviroment_carbon_dioxid_emission_indicator_pulp\n",
    "\n",
    "for dataframe_tuple_1, dataframe_tuple_2 in zip(dataframes_1, dataframes_2):\n",
    "    country_acronym = dataframe_tuple_1[0]\n",
    "    dataframe_1 = dataframe_tuple_1[1]\n",
    "    dataframe_2 = dataframe_tuple_2[1]\n",
    "    \n",
    "    print(f\"{selected_region_pulp_name[country_acronym]}\")\n",
    "    generate_dispersion_graph(dataframe_1, dataframe_2, indicator_1, indicator_2, \"Wood extractor\", \"CO2 emission\", False)\n",
    "\n",
    "for dataframe_tuple_1, dataframe_tuple_2 in zip(dataframes_1, dataframes_2):\n",
    "    country_acronym = dataframe_tuple_1[0]\n",
    "    dataframe_1 = dataframe_tuple_1[1]\n",
    "    dataframe_2 = dataframe_tuple_2[1]\n",
    "    \n",
    "    print(f\"{selected_region_pulp_name[country_acronym]}\")\n",
    "    generate_dispersion_graph(dataframe_1, dataframe_2, indicator_1, indicator_2, \"Wood extractor\", \"CO2 emission\", False)"
   ]
  },
  {
   "cell_type": "markdown",
   "id": "7ebdcb35",
   "metadata": {},
   "source": [
    "#### Apresentação de gráficos de dispersão - Brasil"
   ]
  },
  {
   "cell_type": "code",
   "execution_count": null,
   "id": "75bc323c",
   "metadata": {},
   "outputs": [],
   "source": [
    "indicator_1 = wood_extractor_indicator\n",
    "indicator_2 = water_consum_indicator\n",
    "dataframe_1 = enviroment_wood_extractor_indicator\n",
    "dataframe_2 = enviroment_water_consum_indicator\n",
    "\n",
    "generate_dispersion_graph(dataframe_1, dataframe_2, indicator_1, indicator_2, \"Wood extractor\", \"Water consum\")"
   ]
  },
  {
   "cell_type": "code",
   "execution_count": null,
   "id": "1c6a386c",
   "metadata": {},
   "outputs": [],
   "source": [
    "indicator_1 = wood_extractor_indicator\n",
    "indicator_2 = carbon_dioxid_emission_indicator\n",
    "dataframe_1 = enviroment_wood_extractor_indicator\n",
    "dataframe_2 = enviroment_carbon_dioxid_emission_indicator\n",
    "\n",
    "generate_dispersion_graph(dataframe_1, dataframe_2, indicator_1, indicator_2, \"Wood extractor\", \"CO2 emission\")"
   ]
  },
  {
   "cell_type": "markdown",
   "id": "69dc8357",
   "metadata": {},
   "source": [
    "#### Apresentação de gráficos de dispersão - Países"
   ]
  },
  {
   "cell_type": "code",
   "execution_count": null,
   "id": "919ddc53",
   "metadata": {},
   "outputs": [],
   "source": [
    "indicator_1 = wood_extractor_indicator\n",
    "indicator_2 = water_consum_indicator\n",
    "dataframes_1 = enviroment_wood_extractor_indicator_pulp\n",
    "dataframes_2 = enviroment_water_consum_indicator_pulp\n",
    "\n",
    "for dataframe_tuple_1, dataframe_tuple_2 in zip(dataframes_1, dataframes_2):\n",
    "    country_acronym = dataframe_tuple_1[0]\n",
    "    dataframe_1 = dataframe_tuple_1[1]\n",
    "    dataframe_2 = dataframe_tuple_2[1]\n",
    "    \n",
    "    print(f\"{selected_region_pulp_name[country_acronym]}\")\n",
    "    generate_dispersion_graph(dataframe_1, dataframe_2, indicator_1, indicator_2, \"Wood extractor\", \"Water consum\", False)"
   ]
  },
  {
   "cell_type": "code",
   "execution_count": null,
   "id": "7df93091",
   "metadata": {},
   "outputs": [],
   "source": [
    "indicator_1 = wood_extractor_indicator\n",
    "indicator_2 = carbon_dioxid_emission_indicator\n",
    "dataframes_1 = enviroment_wood_extractor_indicator_pulp\n",
    "dataframes_2 = enviroment_carbon_dioxid_emission_indicator_pulp\n",
    "\n",
    "for dataframe_tuple_1, dataframe_tuple_2 in zip(dataframes_1, dataframes_2):\n",
    "    country_acronym = dataframe_tuple_1[0]\n",
    "    dataframe_1 = dataframe_tuple_1[1]\n",
    "    dataframe_2 = dataframe_tuple_2[1]\n",
    "    \n",
    "    print(f\"{selected_region_pulp_name[country_acronym]}\")\n",
    "    generate_dispersion_graph(dataframe_1, dataframe_2, indicator_1, indicator_2, \"Wood extractor\", \"CO2 emission\", False)\n",
    "\n",
    "for dataframe_tuple_1, dataframe_tuple_2 in zip(dataframes_1, dataframes_2):\n",
    "    country_acronym = dataframe_tuple_1[0]\n",
    "    dataframe_1 = dataframe_tuple_1[1]\n",
    "    dataframe_2 = dataframe_tuple_2[1]\n",
    "    \n",
    "    print(f\"{selected_region_pulp_name[country_acronym]}\")\n",
    "    generate_dispersion_graph(dataframe_1, dataframe_2, indicator_1, indicator_2, \"Wood extractor\", \"CO2 emission\", False)"
   ]
  },
  {
   "cell_type": "markdown",
   "id": "cf1eef5a",
   "metadata": {},
   "source": [
    "## Análise 2 - Análise de retorno financeiro para empresas com a ampliação de oportunidades e qualidade de emprego"
   ]
  },
  {
   "cell_type": "markdown",
   "id": "514a3bc4",
   "metadata": {},
   "source": [
    "#### Apresentação de gráficos de dispersão - Brasil"
   ]
  },
  {
   "cell_type": "code",
   "execution_count": null,
   "id": "2a349b86",
   "metadata": {},
   "outputs": [],
   "source": [
    "indicator_1 = work_procutivity_indicator\n",
    "indicator_2 = employee_satisfaction_indicator\n",
    "dataframe_1 = enviroment_work_procutivity_indicator\n",
    "dataframe_2 = enviroment_employee_satisfaction_indicator\n",
    "\n",
    "generate_dispersion_graph(dataframe_1, dataframe_2, indicator_1, indicator_2, \"Work Productivity\", \"Employee Satisfaction\")"
   ]
  },
  {
   "cell_type": "code",
   "execution_count": null,
   "id": "5febb56f",
   "metadata": {},
   "outputs": [],
   "source": [
    "indicator_1 = work_procutivity_indicator\n",
    "indicator_2 = value_added_indicator\n",
    "dataframe_1 = enviroment_work_procutivity_indicator\n",
    "dataframe_2 = enviroment_value_added_indicator\n",
    "\n",
    "generate_dispersion_graph(dataframe_1, dataframe_2, indicator_1, indicator_2, \"Work Productivity\", \"Value Added\")"
   ]
  },
  {
   "cell_type": "code",
   "execution_count": null,
   "id": "7b5f731e",
   "metadata": {},
   "outputs": [],
   "source": [
    "indicator_1 = work_procutivity_indicator\n",
    "indicator_2 = profit_indicator\n",
    "dataframe_1 = enviroment_work_procutivity_indicator\n",
    "dataframe_2 = enviroment_profit_indicator\n",
    "\n",
    "generate_dispersion_graph(dataframe_1, dataframe_2, indicator_1, indicator_2, \"Work Productivity\", \"Profit\")"
   ]
  },
  {
   "cell_type": "markdown",
   "id": "b9955976",
   "metadata": {},
   "source": [
    "#### Apresentação de gráficos de dispersão - Países"
   ]
  },
  {
   "cell_type": "code",
   "execution_count": null,
   "id": "647a0643",
   "metadata": {},
   "outputs": [],
   "source": [
    "indicator_1 = work_procutivity_indicator\n",
    "indicator_2 = employee_satisfaction_indicator\n",
    "dataframes_1 = enviroment_work_procutivity_indicator_pulp\n",
    "dataframes_2 = enviroment_employee_satisfaction_indicator_pulp\n",
    "\n",
    "for dataframe_tuple_1, dataframe_tuple_2 in zip(dataframes_1, dataframes_2):\n",
    "    country_acronym = dataframe_tuple_1[0]\n",
    "    dataframe_1 = dataframe_tuple_1[1]\n",
    "    dataframe_2 = dataframe_tuple_2[1]\n",
    "    \n",
    "    print(f\"{selected_region_pulp_name[country_acronym]}\")\n",
    "    generate_dispersion_graph(dataframe_1, dataframe_2, indicator_1, indicator_2, \"Work Productivity\", \"Employee Satisfaction\", False)"
   ]
  },
  {
   "cell_type": "code",
   "execution_count": null,
   "id": "3b326b24",
   "metadata": {},
   "outputs": [],
   "source": [
    "indicator_1 = work_procutivity_indicator\n",
    "indicator_2 = value_added_indicator\n",
    "dataframes_1 = enviroment_work_procutivity_indicator_pulp\n",
    "dataframes_2 = enviroment_value_added_indicator_pulp\n",
    "\n",
    "for dataframe_tuple_1, dataframe_tuple_2 in zip(dataframes_1, dataframes_2):\n",
    "    country_acronym = dataframe_tuple_1[0]\n",
    "    dataframe_1 = dataframe_tuple_1[1]\n",
    "    dataframe_2 = dataframe_tuple_2[1]\n",
    "    \n",
    "    print(f\"{selected_region_pulp_name[country_acronym]}\")\n",
    "    generate_dispersion_graph(dataframe_1, dataframe_2, indicator_1, indicator_2, \"Work Productivity\", \"Value Added\", False)"
   ]
  },
  {
   "cell_type": "code",
   "execution_count": null,
   "id": "e7b42173",
   "metadata": {},
   "outputs": [],
   "source": [
    "indicator_1 = work_procutivity_indicator\n",
    "indicator_2 = profit_indicator\n",
    "dataframes_1 = enviroment_work_procutivity_indicator_pulp\n",
    "dataframes_2 = enviroment_profit_indicator_pulp\n",
    "\n",
    "for dataframe_tuple_1, dataframe_tuple_2 in zip(dataframes_1, dataframes_2):\n",
    "    country_acronym = dataframe_tuple_1[0]\n",
    "    dataframe_1 = dataframe_tuple_1[1]\n",
    "    dataframe_2 = dataframe_tuple_2[1]\n",
    "    \n",
    "    print(f\"{selected_region_pulp_name[country_acronym]}\")\n",
    "    generate_dispersion_graph(dataframe_1, dataframe_2, indicator_1, indicator_2, \"Work Productivity\", \"Profit\", False)"
   ]
  },
  {
   "cell_type": "markdown",
   "id": "089ecdaa",
   "metadata": {},
   "source": [
    "## Análise 3 - Retorno para organizações/empresas conforme a variação de produtividade"
   ]
  },
  {
   "cell_type": "code",
   "execution_count": null,
   "id": "0a45c422",
   "metadata": {},
   "outputs": [],
   "source": [
    "indicator_1 = employee_satisfaction_indicator\n",
    "indicator_2 = profit_indicator\n",
    "dataframe_1 = enviroment_employee_satisfaction_indicator\n",
    "dataframe_2 = enviroment_profit_indicator\n",
    "\n",
    "generate_dispersion_graph(dataframe_1, dataframe_2, indicator_1, indicator_2, \"Employee Satisfaction\", \"Profit\")"
   ]
  },
  {
   "cell_type": "code",
   "execution_count": null,
   "id": "5b685b00",
   "metadata": {},
   "outputs": [],
   "source": [
    "indicator_1 = job_creation_indicator\n",
    "indicator_2 = profit_indicator\n",
    "dataframe_1 = enviroment_job_creation_indicator\n",
    "dataframe_2 = enviroment_profit_indicator\n",
    "\n",
    "generate_dispersion_graph(dataframe_1, dataframe_2, indicator_1, indicator_2, \"Job Creation\", \"Profit\")"
   ]
  },
  {
   "cell_type": "code",
   "execution_count": null,
   "id": "53eae092",
   "metadata": {
    "scrolled": true
   },
   "outputs": [],
   "source": [
    "indicator_1 = employee_satisfaction_indicator\n",
    "indicator_2 = profit_indicator\n",
    "dataframes_1 = enviroment_employee_satisfaction_indicator_pulp\n",
    "dataframes_2 = enviroment_profit_indicator_pulp\n",
    "\n",
    "for dataframe_tuple_1, dataframe_tuple_2 in zip(dataframes_1, dataframes_2):\n",
    "    country_acronym = dataframe_tuple_1[0]\n",
    "    dataframe_1 = dataframe_tuple_1[1]\n",
    "    dataframe_2 = dataframe_tuple_2[1]\n",
    "    \n",
    "    print(f\"{selected_region_pulp_name[country_acronym]}\")\n",
    "    generate_dispersion_graph(dataframe_1, dataframe_2, indicator_1, indicator_2, \"Employee Satisfaction\", \"Profit\", False)"
   ]
  },
  {
   "cell_type": "code",
   "execution_count": null,
   "id": "cee19c4b",
   "metadata": {},
   "outputs": [],
   "source": [
    "indicator_1 = job_creation_indicator\n",
    "indicator_2 = profit_indicator\n",
    "dataframes_1 = enviroment_job_creation_indicator_pulp\n",
    "dataframes_2 = enviroment_profit_indicator_pulp\n",
    "\n",
    "for dataframe_tuple_1, dataframe_tuple_2 in zip(dataframes_1, dataframes_2):\n",
    "    country_acronym = dataframe_tuple_1[0]\n",
    "    dataframe_1 = dataframe_tuple_1[1]\n",
    "    dataframe_2 = dataframe_tuple_2[1]\n",
    "    \n",
    "    print(f\"{selected_region_pulp_name[country_acronym]}\")\n",
    "    generate_dispersion_graph(dataframe_1, dataframe_2, indicator_1, indicator_2, \"Job Creation\", \"Profit\", False)"
   ]
  },
  {
   "cell_type": "markdown",
   "id": "3df9c04b",
   "metadata": {},
   "source": [
    "## Análise 4 - Como a economia circular e gestão de resíduos impacta o uso de recursos naturais"
   ]
  },
  {
   "cell_type": "code",
   "execution_count": null,
   "id": "7cee40a1",
   "metadata": {},
   "outputs": [],
   "source": [
    "indicator_1 = water_consum_indicator\n",
    "indicator_2 = recycling_indicator\n",
    "dataframe_1 = enviroment_water_consum_indicator\n",
    "dataframes_2 = economic_recycling_indicator\n",
    "\n",
    "countries = list(set(dataframes_2.index.get_level_values(0)))\n",
    "\n",
    "for country_acronym in countries:\n",
    "    dataframe_2 = dataframes_2.loc[country_acronym]\n",
    "    \n",
    "    print(f\"{all_regions[country_acronym]}\")\n",
    "    generate_dispersion_graph(dataframe_1, dataframe_2, indicator_1, indicator_2, \"Water Consum\", \"Recycling\", False)"
   ]
  },
  {
   "cell_type": "code",
   "execution_count": null,
   "id": "66464392",
   "metadata": {},
   "outputs": [],
   "source": [
    "indicator_1 = wood_extractor_indicator\n",
    "indicator_2 = recycling_indicator\n",
    "dataframe_1 = enviroment_wood_extractor_indicator\n",
    "dataframes_2 = economic_recycling_indicator\n",
    "\n",
    "countries = list(set(dataframes_2.index.get_level_values(0)))\n",
    "\n",
    "for country_acronym in countries:\n",
    "    print(country_acronym)\n",
    "    dataframe_2 = dataframes_2.loc[country_acronym]\n",
    "    \n",
    "    print(f\"{all_regions[country_acronym]}\")\n",
    "    generate_dispersion_graph(dataframe_1, dataframe_2, indicator_1, indicator_2, \"Wood Extractor\", \"Recycling\", False)"
   ]
  },
  {
   "cell_type": "code",
   "execution_count": null,
   "id": "27746683",
   "metadata": {},
   "outputs": [],
   "source": [
    "indicator_1 = fossil_energy_use_indicator\n",
    "indicator_2 = recycling_indicator\n",
    "dataframe_1 = enviroment_fossil_energy_use_indicator\n",
    "dataframes_2 = economic_recycling_indicator\n",
    "\n",
    "countries = list(set(dataframes_2.index.get_level_values(0)))\n",
    "\n",
    "for country_acronym in countries:\n",
    "    print(country_acronym)\n",
    "    dataframe_2 = dataframes_2.loc[country_acronym]\n",
    "    \n",
    "    print(f\"{all_regions[country_acronym]}\")\n",
    "    generate_dispersion_graph(dataframe_1, dataframe_2, indicator_1, indicator_2, \"Fossil Energy Use\", \"Recycling\")"
   ]
  },
  {
   "cell_type": "code",
   "execution_count": null,
   "id": "97a59e80",
   "metadata": {},
   "outputs": [],
   "source": [
    "indicator_1 = water_consum_indicator\n",
    "indicator_2 = solid_waste_emission_indicator\n",
    "dataframe_1 = enviroment_water_consum_indicator\n",
    "dataframe_2 = enviroment_solid_waste_emission_indicator\n",
    "\n",
    "generate_dispersion_graph(dataframe_1, dataframe_2, indicator_1, indicator_2, \"Water Consum\", \"Solid Waste Emission\")"
   ]
  },
  {
   "cell_type": "code",
   "execution_count": null,
   "id": "ca4866c0",
   "metadata": {},
   "outputs": [],
   "source": [
    "indicator_1 = wood_extractor_indicator\n",
    "indicator_2 = solid_waste_emission_indicator\n",
    "dataframe_1 = enviroment_wood_extractor_indicator\n",
    "dataframe_2 = enviroment_solid_waste_emission_indicator\n",
    "\n",
    "generate_dispersion_graph(dataframe_1, dataframe_2, indicator_1, indicator_2, \"Wood Extractor\", \"Solid Waste Emission\")"
   ]
  },
  {
   "cell_type": "code",
   "execution_count": null,
   "id": "a511739d",
   "metadata": {},
   "outputs": [],
   "source": [
    "indicator_1 = fossil_energy_use_indicator\n",
    "indicator_2 = solid_waste_emission_indicator\n",
    "dataframe_1 = enviroment_fossil_energy_use_indicator\n",
    "dataframe_2 = enviroment_solid_waste_emission_indicator\n",
    "\n",
    "generate_dispersion_graph(dataframe_1, dataframe_2, indicator_1, indicator_2, \"Fossil Energy Use\", \"Solid Waste Emission\")"
   ]
  },
  {
   "cell_type": "code",
   "execution_count": null,
   "id": "20beb99c",
   "metadata": {},
   "outputs": [],
   "source": [
    "indicator_1 = water_consum_indicator\n",
    "indicator_2 = recycling_indicator\n",
    "dataframes_1 = enviroment_water_consum_indicator_pulp\n",
    "dataframes_2 = economic_recycling_indicator_pulp\n",
    "\n",
    "for dataframe_tuple_1, dataframe_tuple_2 in zip(dataframes_1, dataframes_2):\n",
    "    country_acronym = dataframe_tuple_1[0]\n",
    "    dataframe_1 = dataframe_tuple_1[1]\n",
    "    dataframe_2 = dataframe_tuple_2[1]\n",
    "    \n",
    "    print(f\"{selected_region_pulp_name[country_acronym]}\")\n",
    "    generate_dispersion_graph(dataframe_1, dataframe_2, indicator_1, indicator_2, \"Water Consum\", \"Recycling\", False)"
   ]
  },
  {
   "cell_type": "code",
   "execution_count": null,
   "id": "b858ba6a",
   "metadata": {},
   "outputs": [],
   "source": [
    "indicator_1 = wood_extractor_indicator\n",
    "indicator_2 = recycling_indicator\n",
    "dataframes_1 = enviroment_wood_extractor_indicator_pulp\n",
    "dataframes_2 = economic_recycling_indicator_pulp\n",
    "\n",
    "for dataframe_tuple_1, dataframe_tuple_2 in zip(dataframes_1, dataframes_2):\n",
    "    country_acronym = dataframe_tuple_1[0]\n",
    "    dataframe_1 = dataframe_tuple_1[1]\n",
    "    dataframe_2 = dataframe_tuple_2[1]\n",
    "    \n",
    "    print(f\"{selected_region_pulp_name[country_acronym]}\")\n",
    "    generate_dispersion_graph(dataframe_1, dataframe_2, indicator_1, indicator_2, \"Wood Extractor\", \"Recycling\", False)"
   ]
  },
  {
   "cell_type": "code",
   "execution_count": null,
   "id": "6668f832",
   "metadata": {},
   "outputs": [],
   "source": [
    "indicator_1 = fossil_energy_use_indicator\n",
    "indicator_2 = recycling_indicator\n",
    "dataframes_1 = enviroment_fossil_energy_use_indicator_pulp\n",
    "dataframes_2 = economic_recycling_indicator_pulp\n",
    "\n",
    "for dataframe_tuple_1, dataframe_tuple_2 in zip(dataframes_1, dataframes_2):\n",
    "    country_acronym = dataframe_tuple_1[0]\n",
    "    dataframe_1 = dataframe_tuple_1[1]\n",
    "    dataframe_2 = dataframe_tuple_2[1]\n",
    "    \n",
    "    print(f\"{selected_region_pulp_name[country_acronym]}\")\n",
    "    generate_dispersion_graph(dataframe_1, dataframe_2, indicator_1, indicator_2, \"Fossil Energy Use\", \"Recycling\", False)"
   ]
  },
  {
   "cell_type": "code",
   "execution_count": null,
   "id": "3fbc6c6c",
   "metadata": {},
   "outputs": [],
   "source": [
    "indicator_1 = water_consum_indicator\n",
    "indicator_2 = solid_waste_emission_indicator\n",
    "dataframes_1 = enviroment_water_consum_indicator_pulp\n",
    "dataframes_2 = enviroment_solid_waste_emission_indicator_pulp\n",
    "\n",
    "for dataframe_tuple_1, dataframe_tuple_2 in zip(dataframes_1, dataframes_2):\n",
    "    country_acronym = dataframe_tuple_1[0]\n",
    "    dataframe_1 = dataframe_tuple_1[1]\n",
    "    dataframe_2 = dataframe_tuple_2[1]\n",
    "    \n",
    "    print(f\"{selected_region_pulp_name[country_acronym]}\")\n",
    "    generate_dispersion_graph(dataframe_1, dataframe_2, indicator_1, indicator_2, \"Water Consum\", \"Solid Waste Emission\", False)"
   ]
  },
  {
   "cell_type": "code",
   "execution_count": null,
   "id": "d0c39032",
   "metadata": {},
   "outputs": [],
   "source": [
    "indicator_1 = wood_extractor_indicator\n",
    "indicator_2 = solid_waste_emission_indicator\n",
    "dataframes_1 = enviroment_wood_extractor_indicator_pulp\n",
    "dataframes_2 = enviroment_solid_waste_emission_indicator_pulp\n",
    "\n",
    "for dataframe_tuple_1, dataframe_tuple_2 in zip(dataframes_1, dataframes_2):\n",
    "    country_acronym = dataframe_tuple_1[0]\n",
    "    dataframe_1 = dataframe_tuple_1[1]\n",
    "    dataframe_2 = dataframe_tuple_2[1]\n",
    "    \n",
    "    print(f\"{selected_region_pulp_name[country_acronym]}\")\n",
    "    generate_dispersion_graph(dataframe_1, dataframe_2, indicator_1, indicator_2, \"Wood Extractor\", \"Solid Waste Emission\", False)"
   ]
  },
  {
   "cell_type": "code",
   "execution_count": null,
   "id": "9fec307a",
   "metadata": {},
   "outputs": [],
   "source": [
    "indicator_1 = fossil_energy_use_indicator\n",
    "indicator_2 = solid_waste_emission_indicator\n",
    "dataframes_1 = enviroment_fossil_energy_use_indicator_pulp\n",
    "dataframes_2 = enviroment_solid_waste_emission_indicator_pulp\n",
    "\n",
    "for dataframe_tuple_1, dataframe_tuple_2 in zip(dataframes_1, dataframes_2):\n",
    "    country_acronym = dataframe_tuple_1[0]\n",
    "    dataframe_1 = dataframe_tuple_1[1]\n",
    "    dataframe_2 = dataframe_tuple_2[1]\n",
    "    \n",
    "    print(f\"{selected_region_pulp_name[country_acronym]}\")\n",
    "    generate_dispersion_graph(dataframe_1, dataframe_2, indicator_1, indicator_2, \"Fossil Energy Use\", \"Solid Waste Emission\", False)"
   ]
  }
 ],
 "metadata": {
  "kernelspec": {
   "display_name": "Python 3 (ipykernel)",
   "language": "python",
   "name": "python3"
  },
  "language_info": {
   "codemirror_mode": {
    "name": "ipython",
    "version": 3
   },
   "file_extension": ".py",
   "mimetype": "text/x-python",
   "name": "python",
   "nbconvert_exporter": "python",
   "pygments_lexer": "ipython3",
   "version": "3.9.13"
  }
 },
 "nbformat": 4,
 "nbformat_minor": 5
}
